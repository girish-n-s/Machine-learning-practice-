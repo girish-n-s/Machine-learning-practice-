{
 "cells": [
  {
   "cell_type": "code",
   "execution_count": 1,
   "id": "9ffa4b53",
   "metadata": {},
   "outputs": [],
   "source": [
    "import pandas as pd\n",
    "# Load the CSV file (update the path to your actual file)\n",
    "from sklearn.model_selection import train_test_split\n",
    "from collections import defaultdict\n",
    "import numpy as np\n"
   ]
  },
  {
   "cell_type": "code",
   "execution_count": 2,
   "id": "4b18523e",
   "metadata": {},
   "outputs": [
    {
     "name": "stdout",
     "output_type": "stream",
     "text": [
      "<bound method NDFrame.head of       Unnamed: 0 label                                               text  \\\n",
      "0            605   ham  Subject: enron methanol ; meter # : 988291\\r\\n...   \n",
      "1           2349   ham  Subject: hpl nom for january 9 , 2001\\r\\n( see...   \n",
      "2           3624   ham  Subject: neon retreat\\r\\nho ho ho , we ' re ar...   \n",
      "3           4685  spam  Subject: photoshop , windows , office . cheap ...   \n",
      "4           2030   ham  Subject: re : indian springs\\r\\nthis deal is t...   \n",
      "...          ...   ...                                                ...   \n",
      "5166        1518   ham  Subject: put the 10 on the ft\\r\\nthe transport...   \n",
      "5167         404   ham  Subject: 3 / 4 / 2000 and following noms\\r\\nhp...   \n",
      "5168        2933   ham  Subject: calpine daily gas nomination\\r\\n>\\r\\n...   \n",
      "5169        1409   ham  Subject: industrial worksheets for august 2000...   \n",
      "5170        4807  spam  Subject: important online banking alert\\r\\ndea...   \n",
      "\n",
      "      label_num  \n",
      "0             0  \n",
      "1             0  \n",
      "2             0  \n",
      "3             1  \n",
      "4             0  \n",
      "...         ...  \n",
      "5166          0  \n",
      "5167          0  \n",
      "5168          0  \n",
      "5169          0  \n",
      "5170          1  \n",
      "\n",
      "[5171 rows x 4 columns]>\n"
     ]
    }
   ],
   "source": [
    "df = pd.read_csv(\"spam_ham_dataset.csv\", encoding='latin-1')  # 'latin-1' works for special characters\n",
    "train_x,test_x = train_test_split(df,test_size=0.2,random_state=7)\n",
    "spam_count = defaultdict(int)\n",
    "ham_count = defaultdict(int)\n",
    "print(df.head)"
   ]
  },
  {
   "cell_type": "code",
   "execution_count": 3,
   "id": "fc8d8bfd",
   "metadata": {},
   "outputs": [],
   "source": [
    "def split_cust(email,freq):\n",
    "    words=[]\n",
    "    i=0\n",
    "    j=0\n",
    "    count=0\n",
    "    while (i<len(email)):\n",
    "        while((i<len(email))and(email[i]!=' ' and email[i]!='\\n' and email[i]!='\\t' and email[i]!=',' and email[i]!='-' and email[i]!=':' and email[i]!='.' )):\n",
    "            i+=1\n",
    "        word = email[j:i]\n",
    "        while((i<len(email))and(email[i]==' ' or email[i]=='\\n' or email[i]=='\\t' or email[i]==',' or email[i]=='-' or email[i]==':' or email[i]=='.')):\n",
    "            i+=1\n",
    "        j=i\n",
    "        #print(word)\n",
    "        words.append(word)\n",
    "        freq[word]+=1\n",
    "        count+=1\n",
    "    return words,count\n"
   ]
  },
  {
   "cell_type": "code",
   "execution_count": 4,
   "id": "d5c0fdd2",
   "metadata": {},
   "outputs": [],
   "source": [
    "spam_mail = train_x[ train_x['label']=='spam']['text']\n",
    "spam_mail = list(spam_mail)\n",
    "\n",
    "ham_mail = train_x[ train_x['label']=='ham']['text']\n",
    "ham_mail = list(ham_mail)\n",
    "\n",
    "prob_spam = len(spam_mail)/len(df)\n",
    "prob_ham = len(ham_mail)/len(df)"
   ]
  },
  {
   "cell_type": "code",
   "execution_count": 5,
   "id": "1d2fba0b",
   "metadata": {},
   "outputs": [],
   "source": [
    "words_spam=set()\n",
    "spam_word_count=0\n",
    "for s in spam_mail:\n",
    "    word,count=(split_cust(s,spam_count))\n",
    "    words_spam = words_spam | set(word)\n",
    "    spam_word_count+=count\n",
    "words_ham=set()\n",
    "ham_word_count =0\n",
    "for s in ham_mail:\n",
    "    word,count=(split_cust(s,ham_count))\n",
    "    words_ham|=set(word)\n",
    "    ham_word_count+=count\n",
    "\n",
    " \n"
   ]
  },
  {
   "cell_type": "markdown",
   "id": "becd5fe8",
   "metadata": {},
   "source": [
    "finding probability of occurance of word"
   ]
  },
  {
   "cell_type": "code",
   "execution_count": 6,
   "id": "a1261154",
   "metadata": {},
   "outputs": [],
   "source": [
    "prob_word_spam = defaultdict(float)\n",
    "for w in words_spam:\n",
    "    prob_word_spam[w] = (spam_count[w]+1)/(spam_word_count+len(words_spam))\n",
    "prob_word_ham = defaultdict(float)\n",
    "for w in words_ham:\n",
    "    prob_word_ham[w]= (ham_count[w]+1)/(ham_word_count+len(words_ham))\n"
   ]
  },
  {
   "cell_type": "markdown",
   "id": "f2ad03fe",
   "metadata": {},
   "source": [
    "# testing phase"
   ]
  },
  {
   "cell_type": "code",
   "execution_count": 7,
   "id": "0e5a4e29",
   "metadata": {},
   "outputs": [],
   "source": [
    "def predict (s):\n",
    "    \n",
    "    freq_count = defaultdict(int)\n",
    "    words,count = split_cust(s,freq_count)\n",
    "    p_spam =1\n",
    "    p_ham = 1\n",
    "    for w in words:\n",
    "        if(prob_word_spam[w]==0):\n",
    "            prob_word_spam[w]=1/(spam_word_count+len(words_spam))\n",
    "        p_spam *=prob_word_spam[w]\n",
    "        if(prob_word_ham[w]==0):\n",
    "            prob_word_ham[w]=1/(ham_word_count+len(words_ham))\n",
    "        p_ham *= prob_word_ham[w]\n",
    "    p_spam*=prob_spam\n",
    "    p_ham *= prob_ham\n",
    "    if p_spam>p_ham:\n",
    "        return 1\n",
    "    return 0\n"
   ]
  },
  {
   "cell_type": "code",
   "execution_count": 8,
   "id": "8204eccd",
   "metadata": {},
   "outputs": [
    {
     "name": "stdout",
     "output_type": "stream",
     "text": [
      "[0, 0, 1, 0, 0, 0, 0, 0, 0, 0, 0, 0, 1, 1, 0, 0, 1, 0, 1, 0, 0, 1, 1, 0, 0, 0, 0, 0, 0, 0, 0, 0, 0, 0, 0, 0, 0, 0, 0, 0, 0, 0, 0, 0, 0, 0, 1, 0, 0, 0, 0, 0, 0, 0, 1, 0, 0, 0, 0, 1, 0, 0, 1, 0, 0, 0, 0, 0, 1, 0, 0, 0, 0, 0, 0, 1, 0, 1, 0, 0, 0, 0, 0, 0, 0, 0, 0, 0, 0, 0, 0, 1, 0, 0, 0, 0, 0, 0, 0, 0, 0, 0, 0, 0, 0, 0, 0, 0, 0, 0, 0, 0, 0, 0, 0, 0, 0, 0, 0, 0, 0, 0, 0, 0, 0, 0, 0, 0, 1, 0, 1, 0, 0, 0, 0, 1, 0, 0, 0, 0, 1, 0, 0, 0, 0, 0, 0, 0, 0, 0, 1, 0, 0, 0, 0, 0, 1, 0, 0, 1, 0, 0, 0, 1, 0, 0, 0, 0, 1, 0, 0, 1, 0, 1, 0, 1, 0, 1, 0, 0, 1, 0, 0, 0, 1, 0, 0, 1, 0, 0, 0, 0, 0, 0, 0, 0, 0, 0, 0, 0, 0, 0, 0, 0, 0, 0, 0, 0, 0, 0, 0, 1, 0, 1, 0, 0, 0, 1, 0, 0, 0, 0, 0, 0, 0, 0, 1, 0, 0, 0, 0, 0, 0, 0, 1, 0, 0, 0, 0, 0, 0, 0, 0, 0, 0, 0, 0, 0, 0, 1, 0, 0, 0, 0, 0, 0, 0, 0, 0, 0, 0, 0, 0, 0, 0, 0, 0, 1, 0, 0, 0, 0, 1, 0, 0, 0, 0, 0, 0, 0, 0, 0, 0, 0, 0, 0, 0, 0, 0, 0, 0, 0, 0, 0, 0, 0, 1, 1, 0, 0, 0, 0, 0, 0, 0, 0, 0, 0, 0, 0, 0, 0, 0, 0, 0, 0, 0, 0, 1, 0, 0, 0, 0, 0, 0, 0, 0, 0, 0, 0, 0, 0, 0, 0, 0, 0, 1, 0, 0, 0, 0, 0, 1, 0, 0, 0, 0, 1, 0, 0, 0, 0, 0, 0, 0, 0, 0, 0, 0, 0, 0, 0, 1, 0, 0, 0, 0, 1, 0, 0, 0, 0, 0, 1, 0, 0, 0, 1, 0, 0, 0, 0, 0, 1, 0, 0, 0, 0, 1, 0, 0, 0, 0, 0, 0, 0, 0, 0, 0, 0, 0, 0, 0, 0, 0, 0, 1, 0, 0, 0, 0, 0, 1, 0, 0, 0, 0, 0, 0, 0, 0, 0, 0, 1, 0, 0, 0, 0, 0, 0, 0, 0, 0, 0, 0, 0, 0, 0, 0, 0, 0, 0, 1, 0, 0, 0, 0, 0, 0, 0, 0, 0, 1, 0, 0, 0, 0, 0, 0, 0, 0, 0, 0, 0, 0, 1, 0, 0, 0, 0, 0, 1, 0, 0, 0, 0, 0, 0, 0, 0, 0, 0, 1, 0, 0, 1, 0, 0, 0, 0, 0, 0, 0, 0, 0, 0, 0, 0, 0, 0, 1, 1, 0, 0, 0, 1, 0, 1, 0, 0, 0, 0, 0, 1, 0, 0, 0, 0, 0, 0, 0, 1, 0, 1, 0, 0, 0, 0, 0, 0, 0, 0, 0, 0, 0, 0, 0, 0, 0, 0, 0, 0, 0, 0, 0, 0, 0, 0, 0, 0, 0, 0, 0, 0, 1, 0, 1, 0, 0, 0, 0, 0, 0, 0, 0, 0, 1, 0, 0, 1, 0, 1, 0, 0, 0, 0, 0, 0, 0, 0, 0, 0, 0, 0, 0, 0, 0, 0, 0, 0, 0, 0, 0, 0, 0, 0, 0, 0, 1, 0, 0, 0, 0, 0, 0, 0, 0, 0, 0, 0, 0, 0, 0, 1, 0, 0, 0, 0, 0, 0, 0, 0, 0, 0, 0, 0, 0, 0, 0, 0, 0, 0, 0, 0, 0, 0, 0, 0, 0, 0, 0, 0, 0, 0, 0, 0, 0, 0, 0, 0, 0, 0, 0, 0, 0, 0, 0, 1, 1, 1, 1, 0, 0, 0, 0, 0, 0, 1, 1, 0, 0, 0, 0, 0, 0, 0, 0, 0, 0, 0, 0, 0, 0, 1, 0, 0, 0, 0, 0, 0, 0, 0, 0, 0, 0, 0, 1, 0, 0, 0, 0, 0, 0, 1, 0, 0, 0, 0, 0, 1, 0, 0, 0, 0, 0, 0, 0, 0, 0, 0, 0, 0, 0, 0, 0, 0, 0, 0, 0, 0, 0, 0, 0, 0, 0, 0, 0, 0, 0, 0, 0, 0, 1, 1, 0, 0, 0, 0, 0, 0, 0, 0, 0, 0, 0, 0, 0, 0, 1, 0, 0, 1, 0, 0, 0, 0, 0, 0, 0, 1, 0, 0, 0, 0, 0, 0, 0, 0, 0, 0, 0, 1, 0, 0, 0, 1, 0, 0, 0, 1, 0, 0, 0, 0, 0, 0, 0, 1, 1, 0, 1, 0, 1, 0, 0, 0, 0, 1, 0, 1, 0, 0, 0, 0, 0, 0, 0, 0, 0, 1, 0, 0, 0, 0, 0, 0, 0, 0, 1, 0, 0, 0, 0, 0, 1, 0, 0, 0, 0, 0, 0, 0, 0, 0, 1, 1, 0, 1, 0, 0, 0, 0, 0, 0, 0, 1, 0, 0, 0, 1, 0, 0, 1, 0, 1, 0, 0, 0, 1, 0, 0, 0, 0, 0, 1, 1, 0, 0, 1, 1, 1, 0, 0, 0, 0, 0, 0, 0, 0, 0, 0, 0, 0, 0, 0, 0, 1, 0, 0, 0, 0, 0, 0, 0, 0, 0, 0, 0, 0, 0, 0, 0, 0, 0, 1, 0, 0, 0, 0, 0, 0, 0, 0, 0, 0, 0, 0, 0, 0, 0, 0, 0, 1, 0, 0, 0, 0, 0, 0, 0, 0, 0, 0, 0, 0, 0, 1, 0, 0, 0, 0, 0, 0, 1, 0, 0, 0, 0, 1, 0, 0, 0, 1, 1, 0, 0, 1, 0, 0, 0, 0, 0, 0, 0, 0, 0, 0, 0, 0, 1, 0, 0, 0, 1, 0, 0, 0, 0, 0, 0, 0, 0, 0, 0, 0, 0, 0, 1, 0, 0, 0, 0, 0, 0, 0, 0, 0, 1, 0, 0, 0, 0, 0, 0, 0, 0, 0, 0, 0, 0, 0, 1, 0, 0, 0, 1, 0, 0, 0, 0]\n",
      "3135    spam\n",
      "4300     ham\n",
      "2736    spam\n",
      "4417    spam\n",
      "3653     ham\n",
      "        ... \n",
      "4333     ham\n",
      "3505    spam\n",
      "495      ham\n",
      "1747     ham\n",
      "1328    spam\n",
      "Name: label, Length: 1035, dtype: object\n"
     ]
    }
   ],
   "source": [
    "predict_label=[]\n",
    "for s in test_x['text']:\n",
    "    predict_label.append(predict(s))\n",
    "print(predict_label[:-5])\n",
    "print(test_x['label'])\n",
    "label = list(test_x['label_num'])"
   ]
  },
  {
   "cell_type": "code",
   "execution_count": 9,
   "id": "8a236d4e",
   "metadata": {},
   "outputs": [
    {
     "name": "stdout",
     "output_type": "stream",
     "text": [
      "1035\n",
      "1035\n"
     ]
    }
   ],
   "source": [
    "print(len(predict_label))\n",
    "print(len(test_x))"
   ]
  },
  {
   "cell_type": "code",
   "execution_count": 10,
   "id": "825da648",
   "metadata": {},
   "outputs": [
    {
     "name": "stdout",
     "output_type": "stream",
     "text": [
      "173\n",
      "0.8328502415458937\n"
     ]
    }
   ],
   "source": [
    "accuracy = np.array(predict_label)^ np.array(label)\n",
    "accuracy_score = np.sum(accuracy)\n",
    "print(accuracy_score)\n",
    "accuracy_percentage = (1035-accuracy_score)/1035\n",
    "accuracy_score*=100\n",
    "print(accuracy_percentage)"
   ]
  },
  {
   "cell_type": "code",
   "execution_count": 11,
   "id": "8ffbba5a",
   "metadata": {},
   "outputs": [
    {
     "name": "stdout",
     "output_type": "stream",
     "text": [
      "              precision    recall  f1-score   support\n",
      "\n",
      "           0       1.00      0.81      0.89       905\n",
      "           1       0.43      0.98      0.59       130\n",
      "\n",
      "    accuracy                           0.83      1035\n",
      "   macro avg       0.71      0.89      0.74      1035\n",
      "weighted avg       0.92      0.83      0.86      1035\n",
      "\n"
     ]
    }
   ],
   "source": [
    "from sklearn.metrics import classification_report\n",
    "\n",
    "print(classification_report(np.array(predict_label),np.array(label)))"
   ]
  },
  {
   "cell_type": "code",
   "execution_count": 12,
   "id": "c9cf790a",
   "metadata": {},
   "outputs": [
    {
     "data": {
      "text/plain": [
       "<sklearn.metrics._plot.confusion_matrix.ConfusionMatrixDisplay at 0x12967d490>"
      ]
     },
     "execution_count": 12,
     "metadata": {},
     "output_type": "execute_result"
    },
    {
     "data": {
      "image/png": "[encoded data removed]",
      "text/plain": [
       "<Figure size 640x480 with 2 Axes>"
      ]
     },
     "metadata": {},
     "output_type": "display_data"
    }
   ],
   "source": [
    "from sklearn.metrics import confusion_matrix, ConfusionMatrixDisplay\n",
    "\n",
    "cm = confusion_matrix(np.array(predict_label),np.array(label))\n",
    "ConfusionMatrixDisplay(cm).plot()"
   ]
  },
  {
   "cell_type": "code",
   "execution_count": null,
   "id": "9005c743",
   "metadata": {},
   "outputs": [],
   "source": []
  }
 ],
 "metadata": {
  "kernelspec": {
   "display_name": "Python 3",
   "language": "python",
   "name": "python3"
  },
  "language_info": {
   "codemirror_mode": {
    "name": "ipython",
    "version": 3
   },
   "file_extension": ".py",
   "mimetype": "text/x-python",
   "name": "python",
   "nbconvert_exporter": "python",
   "pygments_lexer": "ipython3",
   "version": "3.9.6"
  }
 },
 "nbformat": 4,
 "nbformat_minor": 5
}
