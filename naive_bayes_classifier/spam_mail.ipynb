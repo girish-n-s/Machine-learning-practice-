{
 "cells": [
  {
   "cell_type": "code",
   "execution_count": null,
   "id": "9ffa4b53",
   "metadata": {},
   "outputs": [],
   "source": [
    "import pandas as pd\n",
    "# Load the CSV file (update the path to your actual file)\n",
    "from sklearn.model_selection import train_test_split\n",
    "from collections import defaultdict\n",
    "import numpy as np\n",
    "from sklearn.metrics import accuracy_score\n"
   ]
  },
  {
   "cell_type": "code",
   "execution_count": null,
   "id": "4b18523e",
   "metadata": {},
   "outputs": [],
   "source": [
    "df = pd.read_csv(\"email_spam.csv\")  # 'latin-1' works for special characters\n",
    "train_x,test_x = train_test_split(df,test_size=0.2,random_state=7)\n",
    "spam_count = defaultdict(int)\n",
    "ham_count = defaultdict(int)\n",
    "print(df.head)"
   ]
  },
  {
   "cell_type": "code",
   "execution_count": null,
   "id": "fc8d8bfd",
   "metadata": {},
   "outputs": [],
   "source": [
    "def split_cust(email,freq):\n",
    "    words=[]\n",
    "    common_words = set(['a','as','are','at','to','too','or','and','subject','what','when','not','re','let'])\n",
    "\n",
    "    email =email.lower()\n",
    "    i=0\n",
    "    j=0\n",
    "    count=0\n",
    "    while (i<len(email)):\n",
    "        while((i<len(email))and(email[i]!=' ' and email[i]!='\\n' and email[i]!='\\t' and email[i]!=',' and email[i]!='-' and email[i]!=':' and email[i]!='.' and email[i]!= \"'\" and email[i]!='\"')):\n",
    "            i+=1\n",
    "        word = email[j:i]\n",
    "        while((i<len(email))and(email[i]==' ' or email[i]=='\\n' or email[i]=='\\t' or email[i]==',' or email[i]=='-' or email[i]==':' or email[i]=='.' or email[i]== \"'\" or email[i]=='\"' )):\n",
    "            i+=1\n",
    "        j=i\n",
    "        #print(word)\n",
    "        if  word not in common_words and word != '':\n",
    "            words.append(word)\n",
    "            freq[word]+=1\n",
    "            count+=1\n",
    "    return words,count\n"
   ]
  },
  {
   "cell_type": "code",
   "execution_count": null,
   "id": "d5c0fdd2",
   "metadata": {},
   "outputs": [],
   "source": [
    "spam_mail = train_x[ train_x['spam']==1]['text']\n",
    "spam_mail = list(spam_mail)\n",
    "\n",
    "ham_mail = train_x[ train_x['spam']==0]['text']\n",
    "ham_mail = list(ham_mail)\n",
    "\n",
    "prob_spam = len(spam_mail)/len(df)\n",
    "prob_ham = len(ham_mail)/len(df)"
   ]
  },
  {
   "cell_type": "code",
   "execution_count": null,
   "id": "1d2fba0b",
   "metadata": {},
   "outputs": [],
   "source": [
    "words_spam=set()\n",
    "spam_word_count=0\n",
    "for s in spam_mail:\n",
    "    word,count=(split_cust(s,spam_count))\n",
    "    words_spam = words_spam | set(word)\n",
    "    spam_word_count+=count\n",
    "\n",
    "words_ham=set()\n",
    "ham_word_count =0\n",
    "for s in ham_mail:\n",
    "    word,count=(split_cust(s,ham_count))\n",
    "    words_ham|=set(word)\n",
    "    ham_word_count+=count\n",
    "\n",
    " \n"
   ]
  },
  {
   "cell_type": "markdown",
   "id": "becd5fe8",
   "metadata": {},
   "source": [
    "finding probability of occurance of word"
   ]
  },
  {
   "cell_type": "code",
   "execution_count": null,
   "id": "a1261154",
   "metadata": {},
   "outputs": [],
   "source": [
    "prob_word_spam = defaultdict(float)\n",
    "unique = words_spam | words_ham\n",
    "for w in words_spam:\n",
    "    prob_word_spam[w] = (spam_count[w]+1)/(spam_word_count+len(unique))\n",
    "prob_word_ham = defaultdict(float)\n",
    "for w in words_ham:\n",
    "    prob_word_ham[w]= (ham_count[w]+1)/(ham_word_count+len(unique))\n"
   ]
  },
  {
   "cell_type": "markdown",
   "id": "f2ad03fe",
   "metadata": {},
   "source": [
    "# testing phase"
   ]
  },
  {
   "cell_type": "code",
   "execution_count": null,
   "id": "0e5a4e29",
   "metadata": {},
   "outputs": [],
   "source": [
    "def predict (s):\n",
    "    \n",
    "    freq_count = defaultdict(int)\n",
    "    words,count = split_cust(s,freq_count)\n",
    "    p_spam =0\n",
    "    p_ham = 0\n",
    "    \n",
    "    for w in words:\n",
    "        if(prob_word_spam[w]==0):\n",
    "            prob_word_spam[w]=1/(spam_word_count+len(unique))\n",
    "        p_spam += np.log(prob_word_spam[w])\n",
    "        if(prob_word_ham[w]==0):\n",
    "            prob_word_ham[w]=1/(ham_word_count+len(unique))\n",
    "        p_ham += np.log(prob_word_ham[w])\n",
    "    p_spam+=np.log(prob_spam)\n",
    "    p_ham += np.log(prob_ham)\n",
    "    if p_spam>p_ham:\n",
    "        return 1.0\n",
    "    return 0.0\n"
   ]
  },
  {
   "cell_type": "code",
   "execution_count": null,
   "id": "8204eccd",
   "metadata": {},
   "outputs": [],
   "source": [
    "predict_label=[]\n",
    "for s in test_x['text']:\n",
    "    predict_label.append(predict(s))\n",
    "print(predict_label[:-5])\n",
    "print(test_x['spam'])\n",
    "label = list(test_x['spam'])"
   ]
  },
  {
   "cell_type": "code",
   "execution_count": null,
   "id": "8a236d4e",
   "metadata": {},
   "outputs": [],
   "source": [
    "print(len(predict_label))\n",
    "print(len(test_x))"
   ]
  },
  {
   "cell_type": "code",
   "execution_count": null,
   "id": "825da648",
   "metadata": {},
   "outputs": [],
   "source": [
    "accuracy = accuracy_score(label, predict_label)\n",
    "print(\"Accuracy using sklearn:\", accuracy)\n"
   ]
  },
  {
   "cell_type": "code",
   "execution_count": null,
   "id": "8ffbba5a",
   "metadata": {},
   "outputs": [],
   "source": [
    "from sklearn.metrics import classification_report\n",
    "\n",
    "print(classification_report(np.array(predict_label),np.array(test_x['spam'])))"
   ]
  },
  {
   "cell_type": "code",
   "execution_count": null,
   "id": "c9cf790a",
   "metadata": {},
   "outputs": [],
   "source": [
    "from sklearn.metrics import confusion_matrix, ConfusionMatrixDisplay\n",
    "\n",
    "cm = confusion_matrix(np.array(predict_label),np.array(test_x['spam']))\n",
    "ConfusionMatrixDisplay(cm).plot()"
   ]
  },
  {
   "cell_type": "code",
   "execution_count": null,
   "id": "9005c743",
   "metadata": {},
   "outputs": [],
   "source": [
    "sample= \"We are thrilled to announce the release of the results of the Assessment Round for HackOn With Amazon - Season 5.\\n Your participation and dedication have been commendable, and we are excited to share the outcomes with you.\\nDiscover the results on the HackOn With Amazon - Season 5 opportunity page and be sure to share this achievement with your fellow participants. We extend our heartfelt congratulations to all participants for their hard work and insightful contributions throughout. Your skills and innovative thinking truly shone through.\\nWe appreciate your enthusiasm and commitment to making the this phase of HackOn With Amazon - Season 5 a successful and enriching experience.\\nBest regards,\\nTeam HackOn With Amazon\"\n",
    "sample1=\"Hi Girish,\\nCisco Virtual Internship 2025 is live now, and it could be a great opportunity for your learning and a great feather on your resume.\\nBut here’s the thing—preparation is the real game-changer. That’s why we’ve got a FREE Cisco Preparation module designed just for you!\\nFREE Cisco Prep\\nThanks,\\nTeam Unstop\"\n",
    "sample2 = \"Dear Faculty Members and Students,\\nGreetings from the Study Abroad Cell!\\nWe would like to bring to your attention important changes announced by the Irish Immigration Service regarding student visa rules for the September 2025 intake. These new regulations are crucial for students planning to pursue higher education in Ireland.\\nKey Changes to Note:\\nOnly Unconditional Offers will be accepted. Conditional offers will be rejected.\\nNo extensions to the program start date will be permitted.\\nThe three-week rule has been removed, meaning late visa applications may still be accepted, but timely processing cannot be guaranteed.\\nWhat You Should Do:\\nSecure your unconditional offer letter as early as possible.\\nSubmit your visa application well in advance of your course start date.\\nMake travel plans carefully, keeping the new rules in mind.\\nWe urge all students considering Ireland as a study destination to take note of these changes and act promptly. Our expert counselors are here to guide you through the updated process and ensure a smooth application experience.\\nFor assistance or to book your counseling session, Please contact us.\"\n",
    "sample3 = \"\"\"Dear Aspirant \n",
    "Greetings from Ramaiah Skill Academy!\n",
    "Rapid technological advancements and evolving industry demands require the right blend of skills and knowledge to stay ahead. At Ramaiah Skill Academy (RSA), we are dedicated to your professional growth through focused Reskilling, Upskilling, and Capacity Building. Through enrichment in Proficiency and skill enhancement, our mission is to help you prepare and excel in your professional journey.\n",
    "We are offering a diverse range of Skill Enhancement Programs for Workforce Development in the following emerging technology domains, from July 2025 onwards.\n",
    "Embedded System Design (ESD)\n",
    "VLSI Design and Verification\n",
    "Software Engineering\n",
    "Our specialized programs, offered in varying durations, emphasize Conceptual Basics, Hands-on Experience and Project-Based Learning to equip you with the real-world capabilities.\n",
    "Programs at RSA offer:\n",
    "Together, these attributes lead to an ecosystem that empowers and enriches your skills and demonstrates readiness to meet professional challenges. For such aspirations, RSA is your ideal learning partner.\n",
    "As a step forward, visit our website to register and present your queries. Also, attached is the flyer for immediate reference.\n",
    "We look forward to you being a part of the learning community of RSA.\n",
    "Thanking You\n",
    "Ramaiah Skill Academy\n",
    "\n",
    "\"\"\"\n",
    "print(predict(sample))\n",
    "print(predict(sample1))\n",
    "print(predict(sample2))\n",
    "print(predict(sample3))"
   ]
  },
  {
   "cell_type": "markdown",
   "id": "f77b036f",
   "metadata": {},
   "source": [
    "# dataset :https://www.kaggle.com/datasets/jayaprakashpondy/email-spam"
   ]
  },
  {
   "cell_type": "code",
   "execution_count": null,
   "id": "bf2e3fb1",
   "metadata": {},
   "outputs": [],
   "source": []
  }
 ],
 "metadata": {
  "kernelspec": {
   "display_name": "Python 3",
   "language": "python",
   "name": "python3"
  },
  "language_info": {
   "codemirror_mode": {
    "name": "ipython",
    "version": 3
   },
   "file_extension": ".py",
   "mimetype": "text/x-python",
   "name": "python",
   "nbconvert_exporter": "python",
   "pygments_lexer": "ipython3",
   "version": "3.9.6"
  }
 },
 "nbformat": 4,
 "nbformat_minor": 5
}
