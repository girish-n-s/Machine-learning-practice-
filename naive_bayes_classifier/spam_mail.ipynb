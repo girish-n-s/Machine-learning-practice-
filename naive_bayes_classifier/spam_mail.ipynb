{
 "cells": [
  {
   "cell_type": "code",
   "execution_count": 1,
   "id": "9ffa4b53",
   "metadata": {},
   "outputs": [],
   "source": [
    "import pandas as pd\n",
    "# Load the CSV file (update the path to your actual file)\n",
    "from sklearn.model_selection import train_test_split\n",
    "from collections import defaultdict\n",
    "import numpy as np\n",
    "from sklearn.metrics import accuracy_score\n"
   ]
  },
  {
   "cell_type": "code",
   "execution_count": 2,
   "id": "4b18523e",
   "metadata": {},
   "outputs": [
    {
     "name": "stdout",
     "output_type": "stream",
     "text": [
      "<bound method NDFrame.head of           Id  spam                                               text\n",
      "0        1.0   1.0  Subject: naturally irresistible your corporate...\n",
      "1        2.0   1.0  Subject: the stock trading gunslinger  fanny i...\n",
      "2        3.0   1.0  Subject: unbelievable new homes made easy  im ...\n",
      "3        4.0   1.0  Subject: 4 color printing special  request add...\n",
      "4        5.0   1.0  Subject: do not have money , get software cds ...\n",
      "...      ...   ...                                                ...\n",
      "2905  2909.0   0.0  Subject: re : term papers  please respond to  ...\n",
      "2906  2910.0   0.0  Subject: re : actions on anjam ' s resignation...\n",
      "2907  2911.0   0.0  Subject: india database  jim / wade ,  as you ...\n",
      "2908  2912.0   0.0  Subject: re : invitation - wharton et events  ...\n",
      "2909  2913.0   0.0  Subject: moze cie to zainteresuje  vince ,  da...\n",
      "\n",
      "[2910 rows x 3 columns]>\n"
     ]
    }
   ],
   "source": [
    "df = pd.read_csv(\"email_spam.csv\")  # 'latin-1' works for special characters\n",
    "train_x,test_x = train_test_split(df,test_size=0.2,random_state=7)\n",
    "spam_count = defaultdict(int)\n",
    "ham_count = defaultdict(int)\n",
    "print(df.head)"
   ]
  },
  {
   "cell_type": "code",
   "execution_count": 3,
   "id": "fc8d8bfd",
   "metadata": {},
   "outputs": [],
   "source": [
    "def split_cust(email,freq):\n",
    "    words=[]\n",
    "    common_words = set(['a','as','are','at','to','too','or','and','subject','what','when','not','re','let'])\n",
    "\n",
    "    email =email.lower()\n",
    "    i=0\n",
    "    j=0\n",
    "    count=0\n",
    "    while (i<len(email)):\n",
    "        while((i<len(email))and(email[i]!=' ' and email[i]!='\\n' and email[i]!='\\t' and email[i]!=',' and email[i]!='-' and email[i]!=':' and email[i]!='.' and email[i]!= \"'\" and email[i]!='\"')):\n",
    "            i+=1\n",
    "        word = email[j:i]\n",
    "        while((i<len(email))and(email[i]==' ' or email[i]=='\\n' or email[i]=='\\t' or email[i]==',' or email[i]=='-' or email[i]==':' or email[i]=='.' or email[i]== \"'\" or email[i]=='\"' )):\n",
    "            i+=1\n",
    "        j=i\n",
    "        #print(word)\n",
    "        if  word not in common_words and word != '':\n",
    "            words.append(word)\n",
    "            freq[word]+=1\n",
    "            count+=1\n",
    "    return words,count\n"
   ]
  },
  {
   "cell_type": "code",
   "execution_count": 14,
   "id": "d5c0fdd2",
   "metadata": {},
   "outputs": [
    {
     "name": "stdout",
     "output_type": "stream",
     "text": [
      "1101\n"
     ]
    }
   ],
   "source": [
    "spam_mail = train_x[ train_x['spam']==1]['text']\n",
    "spam_mail = list(spam_mail)\n",
    "\n",
    "ham_mail = train_x[ train_x['spam']==0]['text']\n",
    "ham_mail = list(ham_mail)\n",
    "\n",
    "prob_spam = len(spam_mail)/len(df)\n",
    "prob_ham = len(ham_mail)/len(df)\n",
    "print(len(spam_mail))"
   ]
  },
  {
   "cell_type": "code",
   "execution_count": 5,
   "id": "1d2fba0b",
   "metadata": {},
   "outputs": [],
   "source": [
    "words_spam=set()\n",
    "spam_word_count=0\n",
    "for s in spam_mail:\n",
    "    word,count=(split_cust(s,spam_count))\n",
    "    words_spam = words_spam | set(word)\n",
    "    spam_word_count+=count\n",
    "\n",
    "words_ham=set()\n",
    "ham_word_count =0\n",
    "for s in ham_mail:\n",
    "    word,count=(split_cust(s,ham_count))\n",
    "    words_ham|=set(word)\n",
    "    ham_word_count+=count\n",
    "\n",
    " \n"
   ]
  },
  {
   "cell_type": "markdown",
   "id": "becd5fe8",
   "metadata": {},
   "source": [
    "finding probability of occurance of word"
   ]
  },
  {
   "cell_type": "code",
   "execution_count": 6,
   "id": "a1261154",
   "metadata": {},
   "outputs": [],
   "source": [
    "prob_word_spam = defaultdict(float)\n",
    "unique = words_spam | words_ham\n",
    "for w in words_spam:\n",
    "    prob_word_spam[w] = (spam_count[w]+1)/(spam_word_count+len(unique))\n",
    "prob_word_ham = defaultdict(float)\n",
    "for w in words_ham:\n",
    "    prob_word_ham[w]= (ham_count[w]+1)/(ham_word_count+len(unique))\n"
   ]
  },
  {
   "cell_type": "markdown",
   "id": "f2ad03fe",
   "metadata": {},
   "source": [
    "# testing phase"
   ]
  },
  {
   "cell_type": "code",
   "execution_count": 7,
   "id": "0e5a4e29",
   "metadata": {},
   "outputs": [],
   "source": [
    "def predict (s):\n",
    "    \n",
    "    freq_count = defaultdict(int)\n",
    "    words,count = split_cust(s,freq_count)\n",
    "    p_spam =0\n",
    "    p_ham = 0\n",
    "    \n",
    "    for w in words:\n",
    "        if(prob_word_spam[w]==0):\n",
    "            prob_word_spam[w]=1/(spam_word_count+len(unique))\n",
    "        p_spam += np.log(prob_word_spam[w])\n",
    "        if(prob_word_ham[w]==0):\n",
    "            prob_word_ham[w]=1/(ham_word_count+len(unique))\n",
    "        p_ham += np.log(prob_word_ham[w])\n",
    "    p_spam+=np.log(prob_spam)\n",
    "    p_ham += np.log(prob_ham)\n",
    "    if p_spam>p_ham:\n",
    "        return 1.0\n",
    "    return 0.0\n"
   ]
  },
  {
   "cell_type": "code",
   "execution_count": 8,
   "id": "8204eccd",
   "metadata": {},
   "outputs": [],
   "source": [
    "predict_label=[]\n",
    "for s in test_x['text']:\n",
    "    predict_label.append(predict(s))\n",
    "label = list(test_x['spam'])"
   ]
  },
  {
   "cell_type": "code",
   "execution_count": 9,
   "id": "825da648",
   "metadata": {},
   "outputs": [
    {
     "name": "stdout",
     "output_type": "stream",
     "text": [
      "Accuracy using sklearn: 0.993127147766323\n"
     ]
    }
   ],
   "source": [
    "accuracy = accuracy_score(label, predict_label)\n",
    "print(\"Accuracy using sklearn:\", accuracy)\n"
   ]
  },
  {
   "cell_type": "code",
   "execution_count": 10,
   "id": "8ffbba5a",
   "metadata": {},
   "outputs": [
    {
     "name": "stdout",
     "output_type": "stream",
     "text": [
      "              precision    recall  f1-score   support\n",
      "\n",
      "         0.0       0.99      1.00      0.99       311\n",
      "         1.0       1.00      0.99      0.99       271\n",
      "\n",
      "    accuracy                           0.99       582\n",
      "   macro avg       0.99      0.99      0.99       582\n",
      "weighted avg       0.99      0.99      0.99       582\n",
      "\n"
     ]
    }
   ],
   "source": [
    "from sklearn.metrics import classification_report\n",
    "\n",
    "print(classification_report(np.array(predict_label),np.array(test_x['spam'])))"
   ]
  },
  {
   "cell_type": "code",
   "execution_count": 11,
   "id": "c9cf790a",
   "metadata": {},
   "outputs": [
    {
     "data": {
      "text/plain": [
       "<sklearn.metrics._plot.confusion_matrix.ConfusionMatrixDisplay at 0x1032b52e0>"
      ]
     },
     "execution_count": 11,
     "metadata": {},
     "output_type": "execute_result"
    },
    {
     "data": {
      "image/png": "[encoded data removed]",
      "text/plain": [
       "<Figure size 640x480 with 2 Axes>"
      ]
     },
     "metadata": {},
     "output_type": "display_data"
    }
   ],
   "source": [
    "from sklearn.metrics import confusion_matrix, ConfusionMatrixDisplay\n",
    "\n",
    "cm = confusion_matrix(np.array(predict_label),np.array(test_x['spam']))\n",
    "ConfusionMatrixDisplay(cm).plot()"
   ]
  },
  {
   "cell_type": "markdown",
   "id": "f77b036f",
   "metadata": {},
   "source": [
    "# dataset :https://www.kaggle.com/datasets/jayaprakashpondy/email-spam"
   ]
  },
  {
   "cell_type": "code",
   "execution_count": 12,
   "id": "bf2e3fb1",
   "metadata": {},
   "outputs": [],
   "source": [
    "import json\n",
    "model_data={\n",
    "    \"number_of_words\" : len(unique),\n",
    "    \"spam_word_count\" : spam_word_count,\n",
    "    \"ham_word_count\" : ham_word_count,\n",
    "    \"prob_word_spam\" : prob_word_spam,\n",
    "    \"prob_word_ham\" : prob_word_ham,\n",
    "    \"prob_spam\" : prob_spam,\n",
    "    \"prob_ham\" : prob_ham\n",
    "}\n",
    "with open(\"model.json\",'w') as file:\n",
    "    json.dump(model_data,file)\n"
   ]
  },
  {
   "cell_type": "code",
   "execution_count": null,
   "id": "2c3367d9",
   "metadata": {},
   "outputs": [],
   "source": []
  }
 ],
 "metadata": {
  "kernelspec": {
   "display_name": "Python 3",
   "language": "python",
   "name": "python3"
  },
  "language_info": {
   "codemirror_mode": {
    "name": "ipython",
    "version": 3
   },
   "file_extension": ".py",
   "mimetype": "text/x-python",
   "name": "python",
   "nbconvert_exporter": "python",
   "pygments_lexer": "ipython3",
   "version": "3.9.6"
  }
 },
 "nbformat": 4,
 "nbformat_minor": 5
}
