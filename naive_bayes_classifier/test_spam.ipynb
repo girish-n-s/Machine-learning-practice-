{
 "cells": [
  {
   "cell_type": "markdown",
   "id": "fafd7f29",
   "metadata": {},
   "source": [
    "### load saved model"
   ]
  },
  {
   "cell_type": "code",
   "execution_count": 1,
   "id": "663474ab",
   "metadata": {},
   "outputs": [
    {
     "name": "stdout",
     "output_type": "stream",
     "text": [
      "<class 'dict'>\n"
     ]
    }
   ],
   "source": [
    "import json\n",
    "with open(\"model.json\",'r') as file:\n",
    "    model_data = json.load(file)\n",
    "    total_unique_words = model_data['number_of_words']\n",
    "    total_spam_words = model_data[\"spam_word_count\"]\n",
    "    total_ham_words = model_data[\"ham_word_count\"]\n",
    "    prob_word_spam  = model_data[\"prob_word_spam\"]\n",
    "    prob_word_ham   = model_data[\"prob_word_ham\"]\n",
    "    prob_spam = model_data[\"prob_spam\"]\n",
    "    prob_ham = model_data[\"prob_ham\"]\n",
    "\n",
    "print(type(prob_word_ham))"
   ]
  },
  {
   "cell_type": "markdown",
   "id": "6c92686b",
   "metadata": {},
   "source": [
    "### import libraries"
   ]
  },
  {
   "cell_type": "code",
   "execution_count": 2,
   "id": "96badaa8",
   "metadata": {},
   "outputs": [],
   "source": [
    "from collections import defaultdict\n",
    "import numpy as np\n",
    "prob_word_spam = defaultdict(int,prob_word_spam)\n",
    "prob_word_ham = defaultdict(int,prob_word_ham)"
   ]
  },
  {
   "cell_type": "code",
   "execution_count": 3,
   "id": "4caeec60",
   "metadata": {},
   "outputs": [],
   "source": [
    "def split_cust(email):\n",
    "    words=[]\n",
    "    common_words = set(['a','as','are','at','to','too','or','and','subject','what','when','not','re','let'])\n",
    "\n",
    "    email =email.lower()\n",
    "    i=0\n",
    "    j=0\n",
    "    count=0\n",
    "    while (i<len(email)):\n",
    "        while((i<len(email))and(email[i]!=' ' and email[i]!='\\n' and email[i]!='\\t' and email[i]!=',' and email[i]!='-' and email[i]!=':' and email[i]!='.' and email[i]!= \"'\" and email[i]!='\"' and email[i]!='_')):\n",
    "            i+=1\n",
    "        word = email[j:i]\n",
    "        while((i<len(email))and(email[i]==' ' or email[i]=='\\n' or email[i]=='\\t' or email[i]==',' or email[i]=='-' or email[i]==':' or email[i]=='.' or email[i]== \"'\" or email[i]=='\"' or email[i]=='_')):\n",
    "            i+=1\n",
    "        j=i\n",
    "        if  word not in common_words and word != '':\n",
    "            words.append(word)\n",
    "            count+=1\n",
    "    return words\n"
   ]
  },
  {
   "cell_type": "code",
   "execution_count": 4,
   "id": "04a1e4ed",
   "metadata": {},
   "outputs": [],
   "source": [
    "def predict (s):\n",
    "    \n",
    "    words= split_cust(s)\n",
    "    p_spam =0\n",
    "    p_ham = 0\n",
    "    \n",
    "    for w in words:\n",
    "        if(prob_word_spam[w]==0):\n",
    "            prob_word_spam[w]=1/(total_spam_words+total_unique_words)\n",
    "        p_spam += np.log(prob_word_spam[w])\n",
    "        if(prob_word_ham[w]==0):\n",
    "            prob_word_ham[w]=1/(total_ham_words+total_unique_words)\n",
    "        p_ham += np.log(prob_word_ham[w])\n",
    "    p_spam+=np.log(prob_spam)\n",
    "    p_ham += np.log(prob_ham)\n",
    "    if p_spam>p_ham:\n",
    "        return 1.0\n",
    "    return 0.0\n"
   ]
  },
  {
   "cell_type": "code",
   "execution_count": 5,
   "id": "fc8ed3f8",
   "metadata": {},
   "outputs": [
    {
     "name": "stdout",
     "output_type": "stream",
     "text": [
      "0.0\n",
      "1.0\n"
     ]
    }
   ],
   "source": [
    "mail = \"We are thrilled to announce the release of the results of the Assessment Round for HackOn With Amazon - Season 5.\\n Your participation and dedication have been commendable, and we are excited to share the outcomes with you.\\nDiscover the results on the HackOn With Amazon - Season 5 opportunity page and be sure to share this achievement with your fellow participants. We extend our heartfelt congratulations to all participants for their hard work and insightful contributions throughout. Your skills and innovative thinking truly shone through.\\nWe appreciate your enthusiasm and commitment to making the this phase of HackOn With Amazon - Season 5 a successful and enriching experience.\\nBest regards,\\nTeam HackOn With Amazon\"\n",
    "sample2 = \"Dear Faculty Members and Students,\\nGreetings from the Study Abroad Cell!\\nWe would like to bring to your attention important changes announced by the Irish Immigration Service regarding student visa rules for the September 2025 intake. These new regulations are crucial for students planning to pursue higher education in Ireland.\\nKey Changes to Note:\\nOnly Unconditional Offers will be accepted. Conditional offers will be rejected.\\nNo extensions to the program start date will be permitted.\\nThe three-week rule has been removed, meaning late visa applications may still be accepted, but timely processing cannot be guaranteed.\\nWhat You Should Do:\\nSecure your unconditional offer letter as early as possible.\\nSubmit your visa application well in advance of your course start date.\\nMake travel plans carefully, keeping the new rules in mind.\\nWe urge all students considering Ireland as a study destination to take note of these changes and act promptly. Our expert counselors are here to guide you through the updated process and ensure a smooth application experience.\\nFor assistance or to book your counseling session, Please contact us.\"\n",
    "print(predict(mail))\n",
    "print(predict(sample2))"
   ]
  },
  {
   "cell_type": "code",
   "execution_count": null,
   "id": "2d892683",
   "metadata": {},
   "outputs": [],
   "source": []
  }
 ],
 "metadata": {
  "kernelspec": {
   "display_name": "Python 3",
   "language": "python",
   "name": "python3"
  },
  "language_info": {
   "codemirror_mode": {
    "name": "ipython",
    "version": 3
   },
   "file_extension": ".py",
   "mimetype": "text/x-python",
   "name": "python",
   "nbconvert_exporter": "python",
   "pygments_lexer": "ipython3",
   "version": "3.9.6"
  }
 },
 "nbformat": 4,
 "nbformat_minor": 5
}
