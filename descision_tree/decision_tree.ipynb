{
 "cells": [
  {
   "cell_type": "code",
   "execution_count": 1,
   "id": "728352f7",
   "metadata": {},
   "outputs": [],
   "source": [
    "from sklearn.datasets import load_breast_cancer\n",
    "from sklearn.model_selection import train_test_split\n",
    "import pandas as pd\n",
    "import numpy as np\n",
    "from sklearn.metrics import accuracy_score\n",
    "from sklearn.utils import shuffle"
   ]
  },
  {
   "cell_type": "code",
   "execution_count": 2,
   "id": "50983f76",
   "metadata": {},
   "outputs": [],
   "source": [
    "class node:\n",
    "    def __init__(self,name,hold,left,right):\n",
    "        self.feature_name=name\n",
    "        self.treshhold=hold\n",
    "        self.left_data=left\n",
    "        self.right_data=right\n",
    "        self.features=None\n",
    "        self.left_child=None\n",
    "        self.right_child=None\n",
    "    \n",
    "    \n",
    "class Btree:\n",
    "    root=None\n",
    "    \n",
    "    def __init__(self,node1):\n",
    "        self.root = node1\n",
    "\n",
    "    def inser_node(self,child_node,child='left'):\n",
    "        if(child=='left'):\n",
    "            self.node.left_child = child_node\n",
    "        else :\n",
    "            self.node.right_child = child_node\n",
    "    \n",
    "    def inorder(self, root,node_list):\n",
    "        if root is None:\n",
    "            return\n",
    "        self.inorder(root.left_child,node_list)\n",
    "        #print(root.feature_name)\n",
    "        node_list.append(root.feature_name)\n",
    "        self.inorder(root.right_child,node_list)\n",
    "\n",
    "\n",
    "    def print_tree(self):\n",
    "        node_list=[]\n",
    "        self.inorder(self.root,node_list)\n",
    "        return node_list"
   ]
  },
  {
   "cell_type": "code",
   "execution_count": 3,
   "id": "5db5c5b4",
   "metadata": {},
   "outputs": [
    {
     "name": "stdout",
     "output_type": "stream",
     "text": [
      "30\n"
     ]
    }
   ],
   "source": [
    "data = load_breast_cancer(as_frame =True)\n",
    "df = pd.DataFrame(data.frame)\n",
    "features=df.columns.tolist()\n",
    "size = 455+114\n",
    "train_size = 455\n",
    "test_size = size - train_size\n",
    "x_train,x_test = train_test_split(df,test_size=0.2,random_state=20)\n",
    "x_train = x_train.reset_index(drop=True)\n",
    "x_test = x_test.reset_index(drop=True)\n",
    "features.remove('target')\n",
    "print(len(features))\n"
   ]
  },
  {
   "cell_type": "code",
   "execution_count": 4,
   "id": "16ff87cd",
   "metadata": {},
   "outputs": [],
   "source": [
    "def entropy(target):\n",
    "    size = len(target)\n",
    "    yes=len(target[target==1])\n",
    "    no = size-yes\n",
    "    ent=0\n",
    "    if yes > 0:\n",
    "        ent -= (yes / size) * np.log2(yes / size)\n",
    "    if no > 0:\n",
    "        ent -= (no / size) * np.log2(no / size)\n",
    "    return ent\n",
    "    "
   ]
  },
  {
   "cell_type": "code",
   "execution_count": 5,
   "id": "986bf63a",
   "metadata": {},
   "outputs": [],
   "source": [
    "def devide(data,thold,f):\n",
    "    left = data[data[f]<thold]\n",
    "    right = data[data[f]>=thold]\n",
    "    t_size = len(data['target'])\n",
    "    l_size = len(left['target'])\n",
    "    r_size = len(right['target'])\n",
    "    left_entropy=right_entropy=0\n",
    "    if(l_size!=0):\n",
    "        left_entropy = entropy(left['target'])\n",
    "    if(r_size!=0):\n",
    "        right_entropy = entropy(right['target'])\n",
    "\n",
    "    \n",
    "    etr = (l_size*left_entropy + r_size*right_entropy)/t_size\n",
    "    return etr,left_entropy,right_entropy"
   ]
  },
  {
   "cell_type": "code",
   "execution_count": 6,
   "id": "097bc926",
   "metadata": {},
   "outputs": [],
   "source": [
    "def best_feature(features1,data):\n",
    "    best_entropy=200\n",
    "    best_feat=''\n",
    "    best_hold=0\n",
    "    best_left_entropy=best_right_entropy=float('inf')\n",
    "    for f in features1:\n",
    "        sort_df=data.sort_values(by=f)\n",
    "        for i in range (1,len(sort_df['target'])):\n",
    "            hold = (sort_df[f][i-1]+sort_df[f][i])/2\n",
    "            ent,l,r = devide(sort_df,hold,f)\n",
    "            if(ent<best_entropy):\n",
    "                best_entropy=ent\n",
    "                best_feat=f\n",
    "                best_hold=hold\n",
    "                best_left_entropy=l\n",
    "                best_right_entropy=r\n",
    "    \n",
    "    return best_feat,best_hold,best_entropy,best_left_entropy,best_right_entropy"
   ]
  },
  {
   "cell_type": "code",
   "execution_count": 7,
   "id": "0d87383d",
   "metadata": {},
   "outputs": [],
   "source": [
    "def construct_tree(data,features1,depth,depth_limit,diff,sample_size,parent_entropy):\n",
    "    if(len(features1)==0 or depth>5):\n",
    "        return None\n",
    "    data = data.reset_index(drop=True)\n",
    "    bf,hold,cur_entropy ,left_entropy,right_entropy= best_feature(features1,data)\n",
    "    left_data = data[data[bf]<hold]\n",
    "    right_data = data[data[bf]>=hold]\n",
    "    root = node(bf,hold,left_data,right_data)\n",
    "    #print(root.feature_name)\n",
    "    features1.remove(bf)\n",
    "    left_child=right_child=None\n",
    "    #return root\n",
    "    if(len(left_data['target'])>sample_size and (parent_entropy-cur_entropy)>diff):\n",
    "        left_child = construct_tree(left_data,features1.copy(),depth+1,depth_limit,diff,sample_size,left_entropy)\n",
    "    if(len(right_data['target'])>sample_size and (parent_entropy-cur_entropy)>diff):\n",
    "        right_child = construct_tree(right_data,features1.copy(),depth+1,depth_limit,diff,sample_size,right_entropy)\n",
    "    root.left_child=left_child\n",
    "    root.right_child=right_child\n",
    "    return root\n"
   ]
  },
  {
   "cell_type": "code",
   "execution_count": 8,
   "id": "82c5562d",
   "metadata": {},
   "outputs": [],
   "source": [
    "def pred(sample,root):\n",
    "    \n",
    "    if((root.left_child is  None ) and(root.right_child is  None ) ) :\n",
    "\n",
    "        f = root.feature_name\n",
    "        if(sample[f]<root.treshhold):\n",
    "            target = root.left_data['target']\n",
    "        else :\n",
    "            target = root.right_data['target']\n",
    "        size = len(target)\n",
    "        yes=len(target[target==1])\n",
    "        no = size-yes\n",
    "        return 1 if (yes>no) else 0\n",
    "    else :\n",
    "        f = root.feature_name\n",
    "        if(sample[f]<root.treshhold  ):\n",
    "            f = root.feature_name\n",
    "            if(root.left_child is not None):\n",
    "                res=pred(sample,root.left_child)\n",
    "            else :\n",
    "                target=root.left_data\n",
    "                size = len(target)\n",
    "                yes=len(target[target==1])\n",
    "                no = size-yes\n",
    "                return 1 if (yes>no) else 0\n",
    "        \n",
    "        if(sample[f]>=root.treshhold ):\n",
    "            f = root.feature_name\n",
    "            if(root.right_child is not None):\n",
    "                res=pred(sample,root.right_child )\n",
    "            else:\n",
    "                target=root.right_data\n",
    "                size = len(target)\n",
    "                yes=len(target[target==1])\n",
    "                no = size-yes\n",
    "                return 1 if (yes>no) else 0\n",
    "                \n",
    "        return res"
   ]
  },
  {
   "cell_type": "code",
   "execution_count": 9,
   "id": "f9e37a40",
   "metadata": {},
   "outputs": [],
   "source": [
    "def predict(test_data,root):\n",
    "    labels=[]\n",
    "    test_data = test_data.reset_index(drop=True)\n",
    "    for i in range (0,len(test_data)):\n",
    "        sample = test_data.iloc[i]\n",
    "        labels.append(pred(sample,root))\n",
    "    accuracy = accuracy_score(labels,test_data['target'])\n",
    "    return labels,accuracy\n",
    "    \n",
    "\n",
    "        \n"
   ]
  },
  {
   "cell_type": "code",
   "execution_count": 10,
   "id": "b61c5c15",
   "metadata": {},
   "outputs": [],
   "source": [
    "def cross_entropy(data,depth_limit,size_limit,difference,features1):\n",
    "    start_test=0\n",
    "    end_test=91\n",
    "    acc=0\n",
    "    data = shuffle(data, random_state=42+depth_limit).reset_index(drop=True)\n",
    "\n",
    "    for i in range (0,5):\n",
    "        print(i)\n",
    "        test_data = data.iloc[start_test:end_test]\n",
    "        if(start_test==0):\n",
    "            train_data=data[end_test:]\n",
    "        elif(end_test==455):\n",
    "            train_data=data[0:start_test]\n",
    "        else :\n",
    "            train_data=pd.concat([data.iloc[0:start_test],data.iloc[end_test:]])\n",
    "        initial_entropy = entropy(train_data['target'])\n",
    "        train_data=train_data.reset_index(drop=True)\n",
    "        train_data = shuffle(train_data, random_state=end_test).reset_index(drop=True)\n",
    "\n",
    "        tree = Btree(construct_tree(train_data,features1.copy(),0,depth_limit,difference,size_limit,initial_entropy))\n",
    "        \n",
    "        acc +=predict(test_data,tree.root)\n",
    "        start_test=end_test\n",
    "        end_test+=91\n",
    "    return acc/5"
   ]
  },
  {
   "cell_type": "code",
   "execution_count": 11,
   "id": "a0e96955",
   "metadata": {},
   "outputs": [
    {
     "data": {
      "text/plain": [
       "'max_depth=[3,8,9]\\nmax_diff=[0.001,0.005,0.01,0.05]\\nmin_size=[8,10,12]\\nbest_dept=100\\nbest_diff=best_size=100\\nbest_acc = 0\\nfor depth in max_depth:\\n    for diff in max_diff:\\n        for s in min_size:\\n            acc=cross_entropy(x_train,depth,s,diff,features.copy())\\n            if(acc>best_acc):\\n                best_acc=acc\\n                best_dept=depth\\n                best_diff=diff\\n                best_size = s\\n            '"
      ]
     },
     "execution_count": 11,
     "metadata": {},
     "output_type": "execute_result"
    }
   ],
   "source": [
    "'''max_depth=[3,8,9]\n",
    "max_diff=[0.001,0.005,0.01,0.05]\n",
    "min_size=[8,10,12]\n",
    "best_dept=100\n",
    "best_diff=best_size=100\n",
    "best_acc = 0\n",
    "for depth in max_depth:\n",
    "    for diff in max_diff:\n",
    "        for s in min_size:\n",
    "            acc=cross_entropy(x_train,depth,s,diff,features.copy())\n",
    "            if(acc>best_acc):\n",
    "                best_acc=acc\n",
    "                best_dept=depth\n",
    "                best_diff=diff\n",
    "                best_size = s\n",
    "            '''"
   ]
  },
  {
   "cell_type": "code",
   "execution_count": 12,
   "id": "0b331e44",
   "metadata": {},
   "outputs": [],
   "source": [
    "best_depth=3\n",
    "min_diff=0.05\n",
    "min_size=2\n",
    "parent_entropy = entropy(x_train['target'])\n",
    "tree = Btree(construct_tree(x_train,features.copy(),0,best_depth,min_diff,min_size,parent_entropy))\n",
    "predicted_labels,accuracy=predict(x_test,tree.root)\n"
   ]
  },
  {
   "cell_type": "code",
   "execution_count": 13,
   "id": "3944fbd0",
   "metadata": {},
   "outputs": [
    {
     "name": "stdout",
     "output_type": "stream",
     "text": [
      "0.9736842105263158\n"
     ]
    }
   ],
   "source": [
    "print(accuracy)"
   ]
  },
  {
   "cell_type": "code",
   "execution_count": 14,
   "id": "eec43f00",
   "metadata": {},
   "outputs": [
    {
     "data": {
      "text/plain": [
       "<sklearn.metrics._plot.confusion_matrix.ConfusionMatrixDisplay at 0x131d76670>"
      ]
     },
     "execution_count": 14,
     "metadata": {},
     "output_type": "execute_result"
    },
    {
     "data": {
      "image/png": "[encoded data removed]",
      "text/plain": [
       "<Figure size 640x480 with 2 Axes>"
      ]
     },
     "metadata": {},
     "output_type": "display_data"
    }
   ],
   "source": [
    "from sklearn.metrics import confusion_matrix, ConfusionMatrixDisplay\n",
    "\n",
    "cm = confusion_matrix(predicted_labels, x_test['target'])\n",
    "ConfusionMatrixDisplay(cm).plot()\n"
   ]
  }
 ],
 "metadata": {
  "kernelspec": {
   "display_name": "Python 3",
   "language": "python",
   "name": "python3"
  },
  "language_info": {
   "codemirror_mode": {
    "name": "ipython",
    "version": 3
   },
   "file_extension": ".py",
   "mimetype": "text/x-python",
   "name": "python",
   "nbconvert_exporter": "python",
   "pygments_lexer": "ipython3",
   "version": "3.9.6"
  }
 },
 "nbformat": 4,
 "nbformat_minor": 5
}
