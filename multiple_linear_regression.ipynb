{
 "cells": [
  {
   "cell_type": "markdown",
   "id": "a66bec4b-15d4-44fd-ae74-8850a3991cb0",
   "metadata": {},
   "source": [
    "# multiple linear regression \n"
   ]
  },
  {
   "cell_type": "code",
   "execution_count": 1,
   "id": "3882a5d6-1083-45dd-a57b-a2232f2cc5d3",
   "metadata": {},
   "outputs": [
    {
     "name": "stdout",
     "output_type": "stream",
     "text": [
      "done\n"
     ]
    }
   ],
   "source": [
    "from sklearn.datasets import fetch_california_housing\n",
    "import pandas as pd\n",
    "print(\"done\")"
   ]
  },
  {
   "cell_type": "code",
   "execution_count": 9,
   "id": "a3f76cd3-f9e2-4198-a853-6c4f657b901c",
   "metadata": {},
   "outputs": [
    {
     "data": {
      "text/plain": [
       "<bound method NDFrame.head of        MedInc  HouseAge  AveRooms  AveBedrms  Population  AveOccup  Latitude  \\\n",
       "0      8.3252      41.0  6.984127   1.023810       322.0  2.555556     37.88   \n",
       "1      8.3014      21.0  6.238137   0.971880      2401.0  2.109842     37.86   \n",
       "2      7.2574      52.0  8.288136   1.073446       496.0  2.802260     37.85   \n",
       "3      5.6431      52.0  5.817352   1.073059       558.0  2.547945     37.85   \n",
       "4      3.8462      52.0  6.281853   1.081081       565.0  2.181467     37.85   \n",
       "...       ...       ...       ...        ...         ...       ...       ...   \n",
       "20635  1.5603      25.0  5.045455   1.133333       845.0  2.560606     39.48   \n",
       "20636  2.5568      18.0  6.114035   1.315789       356.0  3.122807     39.49   \n",
       "20637  1.7000      17.0  5.205543   1.120092      1007.0  2.325635     39.43   \n",
       "20638  1.8672      18.0  5.329513   1.171920       741.0  2.123209     39.43   \n",
       "20639  2.3886      16.0  5.254717   1.162264      1387.0  2.616981     39.37   \n",
       "\n",
       "       Longitude  MedHouseVal  \n",
       "0        -122.23        4.526  \n",
       "1        -122.22        3.585  \n",
       "2        -122.24        3.521  \n",
       "3        -122.25        3.413  \n",
       "4        -122.25        3.422  \n",
       "...          ...          ...  \n",
       "20635    -121.09        0.781  \n",
       "20636    -121.21        0.771  \n",
       "20637    -121.22        0.923  \n",
       "20638    -121.32        0.847  \n",
       "20639    -121.24        0.894  \n",
       "\n",
       "[20640 rows x 9 columns]>"
      ]
     },
     "execution_count": 9,
     "metadata": {},
     "output_type": "execute_result"
    }
   ],
   "source": [
    "data = fetch_california_housing(as_frame =True)\n",
    "price = data.target\n",
    "size = 20640\n",
    "train_size = (int)(0.8*size)\n",
    "train_price = price[:(int)(0.8*size)]\n",
    "df = pd.DataFrame(data.frame)\n"
   ]
  },
  {
   "cell_type": "markdown",
   "id": "b663138a-a7ba-4bc5-9e5f-b26114dffb80",
   "metadata": {},
   "source": [
    "# extract all features"
   ]
  },
  {
   "cell_type": "code",
   "execution_count": 10,
   "id": "097c0027-7ea1-4cd7-9be0-223cb93a051a",
   "metadata": {},
   "outputs": [
    {
     "data": {
      "text/plain": [
       "0        8.3252\n",
       "1        8.3014\n",
       "2        7.2574\n",
       "3        5.6431\n",
       "4        3.8462\n",
       "          ...  \n",
       "20635    1.5603\n",
       "20636    2.5568\n",
       "20637    1.7000\n",
       "20638    1.8672\n",
       "20639    2.3886\n",
       "Name: MedInc, Length: 20640, dtype: float64"
      ]
     },
     "execution_count": 10,
     "metadata": {},
     "output_type": "execute_result"
    }
   ],
   "source": [
    "medinc=df['MedInc']\n",
    "HouseAge=df['HouseAge']\n",
    "AveRooms=df['AveRooms']\n",
    "AveBedrms = df['AveBedrms']\n",
    "Population=df['Population']\n",
    "AveOccup = df['AveOccup']\n",
    "Latitude df['Latitude']\n",
    "Longitude = df['Longitude']\n",
    "MedHouseVal = df['MedHouseVal']"
   ]
  },
  {
   "cell_type": "markdown",
   "id": "5eb5d504-5903-43ad-8ee9-61babdd33a55",
   "metadata": {},
   "source": [
    "# split train and test data"
   ]
  },
  {
   "cell_type": "code",
   "execution_count": null,
   "id": "5951dd69-53d6-4785-b90f-85386dc797c1",
   "metadata": {},
   "outputs": [],
   "source": [
    "# training data\n",
    "train_medinc=df[:train_size]\n",
    "train_HouseAge=df[:train_size]\n",
    "train_AveRooms=df[:train_size]\n",
    "train_AveBedrms = df[:train_size]\n",
    "train_Population=df[:train_size]\n",
    "train_AveOccup = df[:train_size]\n",
    "train_Latitude df[:train_size]\n",
    "train_Longitude = df[:train_size]\n",
    "train_MedHouseVal = df[:train_size]\n",
    "# testing data\n",
    "\n",
    "test_medinc=df[train_size:]\n",
    "test_HouseAge=df[train_size:]\n",
    "AveRooms=df[train_size:]\n",
    "AveBedrms = df[train_size:]\n",
    "Population=df[train_size:]\n",
    "AveOccup = df[train_size:]\n",
    "Latitude df[train_size:]\n",
    "Longitude = df[train_size:]\n",
    "MedHouseVal = df[train_size:]"
   ]
  }
 ],
 "metadata": {
  "kernelspec": {
   "display_name": "Python 3 (ipykernel)",
   "language": "python",
   "name": "python3"
  },
  "language_info": {
   "codemirror_mode": {
    "name": "ipython",
    "version": 3
   },
   "file_extension": ".py",
   "mimetype": "text/x-python",
   "name": "python",
   "nbconvert_exporter": "python",
   "pygments_lexer": "ipython3",
   "version": "3.9.6"
  }
 },
 "nbformat": 4,
 "nbformat_minor": 5
}
