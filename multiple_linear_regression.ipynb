{
 "cells": [
  {
   "cell_type": "markdown",
   "id": "a66bec4b-15d4-44fd-ae74-8850a3991cb0",
   "metadata": {},
   "source": [
    "# multiple linear regression \n"
   ]
  },
  {
   "cell_type": "code",
   "execution_count": 12,
   "id": "3882a5d6-1083-45dd-a57b-a2232f2cc5d3",
   "metadata": {},
   "outputs": [
    {
     "name": "stdout",
     "output_type": "stream",
     "text": [
      "done\n"
     ]
    }
   ],
   "source": [
    "from sklearn.datasets import fetch_california_housing\n",
    "import pandas as pd\n",
    "import numpy as np\n",
    "print(\"done\")"
   ]
  },
  {
   "cell_type": "code",
   "execution_count": 7,
   "id": "a3f76cd3-f9e2-4198-a853-6c4f657b901c",
   "metadata": {},
   "outputs": [
    {
     "data": {
      "text/plain": [
       "['MedInc',\n",
       " 'HouseAge',\n",
       " 'AveRooms',\n",
       " 'AveBedrms',\n",
       " 'Population',\n",
       " 'AveOccup',\n",
       " 'Latitude',\n",
       " 'Longitude',\n",
       " 'MedHouseVal']"
      ]
     },
     "execution_count": 7,
     "metadata": {},
     "output_type": "execute_result"
    }
   ],
   "source": [
    "data = fetch_california_housing(as_frame =True)\n",
    "price = data.target\n",
    "size = 20640\n",
    "train_size = (int)(0.8*size)\n",
    "train_price = price[:(int)(0.8*size)]\n",
    "df = pd.DataFrame(data.frame)\n",
    "features=df.columns.tolist()\n",
    "features"
   ]
  },
  {
   "cell_type": "markdown",
   "id": "b663138a-a7ba-4bc5-9e5f-b26114dffb80",
   "metadata": {},
   "source": [
    "# extract all features"
   ]
  },
  {
   "cell_type": "code",
   "execution_count": 8,
   "id": "097c0027-7ea1-4cd7-9be0-223cb93a051a",
   "metadata": {},
   "outputs": [],
   "source": [
    "medinc=df['MedInc']\n",
    "HouseAge=df['HouseAge']\n",
    "AveRooms=df['AveRooms']\n",
    "AveBedrms = df['AveBedrms']\n",
    "Population=df['Population']\n",
    "AveOccup = df['AveOccup']\n",
    "Latitude=df['Latitude']\n",
    "Longitude = df['Longitude']\n",
    "MedHouseVal = df['MedHouseVal']"
   ]
  },
  {
   "cell_type": "markdown",
   "id": "5eb5d504-5903-43ad-8ee9-61babdd33a55",
   "metadata": {},
   "source": [
    "# split train and test data"
   ]
  },
  {
   "cell_type": "code",
   "execution_count": 11,
   "id": "5951dd69-53d6-4785-b90f-85386dc797c1",
   "metadata": {},
   "outputs": [],
   "source": [
    "# training data\n",
    "train_medinc=df[:train_size]\n",
    "train_HouseAge=df[:train_size]\n",
    "train_AveRooms=df[:train_size]\n",
    "train_AveBedrms = df[:train_size]\n",
    "train_Population=df[:train_size]\n",
    "train_AveOccup = df[:train_size]\n",
    "train_Latitude = df[:train_size]\n",
    "train_Longitude = df[:train_size]\n",
    "train_MedHouseVal = df[:train_size]\n",
    "# testing data\n",
    "\n",
    "test_medinc=df[train_size:]\n",
    "test_HouseAge=df[train_size:]\n",
    "AveRooms=df[train_size:]\n",
    "AveBedrms = df[train_size:]\n",
    "Population=df[train_size:]\n",
    "AveOccup = df[train_size:]\n",
    "Latitude = df[train_size:]\n",
    "Longitude = df[train_size:]\n",
    "MedHouseVal = df[train_size:]"
   ]
  },
  {
   "cell_type": "markdown",
   "id": "db96316e-b2a9-4aaa-939f-39e5636b0828",
   "metadata": {},
   "source": [
    "### prediction straight line equation\n",
    "**price = a\\*a_ + b\\*b_ + c\\*c_ + d\\*d_ + e\\*e_ + f\\*f_ + g\\*g_ h\\*h_ + const**   \n",
    "*x => coefficient of variable x*   \n",
    "*x_ => variable x*   \n",
    "- a -> 'MedInc'  \n",
    "- b -> 'HouseAge'   \n",
    "- c -> 'AveRooms'   \n",
    "- d -> 'AveBedrms'    \n",
    "- d -> 'Population'    \n",
    "- e -> 'AveOccup'\n",
    "- f -> 'Latitude'    \n",
    "- g -> 'Longitude'   \n",
    "- h -> 'MedHouseVal"
   ]
  },
  {
   "cell_type": "code",
   "execution_count": null,
   "id": "12b00447-940f-4b6c-a535-751b4e79b01f",
   "metadata": {},
   "outputs": [],
   "source": [
    "# loss function , cf_features is list of coefficients of all features\n",
    "def loss_func(train_medinc,train_AveBedrms,train_AveOccup,train_AveRooms,train_HouseAge,train_Latitude,train_Longitude,train_MedHouseVal,train_Population,price ,cf_features,train_size):\n",
    "    predicted_price =np.zeroes(train_size)\n",
    "    for i in range (0,train_size):\n",
    "        predicted_price[i]= cf_features[0]*train_medinc[i] + cf[1]*train_HouseAge[i] + cf[2]*train_AveRooms[i] + cf[3]*train_AveBedrms[i] + cf[4]*train_Population[i] + cf[5]*train_AveOccup[i] + cf[6]*train_Latitude[i] + cf[7]*train_Longitude[i] + cf[8]*train_MedHouseVal[i] + cf[9]\n",
    "        diff+= abs(price[i]-predicted_price[i])**2\n",
    "    return diff/train_size\n",
    "\n",
    "\n"
   ]
  },
  {
   "cell_type": "code",
   "execution_count": null,
   "id": "a49b1ce0-90ca-4d34-bd84-7603d8ba07a6",
   "metadata": {},
   "outputs": [],
   "source": [
    "def der_loss(train_medinc,train_AveBedrms,train_AveOccup,train_AveRooms,train_HouseAge,train_Latitude,train_Longitude,train_MedHouseVal,train_Population,price ,cf_features,train_size):\n",
    "    predicted_price =np.zeroes(train_size)\n",
    "    for i in range (0,train_size):\n",
    "        predicted_price[i]= cf_features[0]*train_medinc[i] + cf[1]*train_HouseAge[i] + cf[2]*train_AveRooms[i] + cf[3]*train_AveBedrms[i] + cf[4]*train_Population[i] + cf[5]*train_AveOccup[i] + cf[6]*train_Latitude[i] + cf[7]*train_Longitude[i] + cf[8]*train_MedHouseVal[i] + cf[9]\n",
    "        diff+= (-price[i]+predicted_price[i])\n",
    "    return diff/train_size\n"
   ]
  },
  {
   "cell_type": "code",
   "execution_count": null,
   "id": "5ce2b7d1-7c61-439a-9c2e-c25b3dce9e84",
   "metadata": {},
   "outputs": [],
   "source": [
    "learn_rate = 0.01\n",
    "cf_features = np.zeroes(train_size)\n",
    "for i in range (0,1000):\n",
    "    loss = loss_func(train_medinc,train_AveBedrms,train_AveOccup,train_AveRooms,train_HouseAge,train_Latitude,train_Longitude,train_MedHouseVal,train_Population,price ,cf_features,train_size):\n",
    "    if(loss>=0 and loss <=1):\n",
    "        break\n",
    "    dj_da = 2*der_loss(train_medinc,train_AveBedrms,train_AveOccup,train_AveRooms,train_HouseAge,train_Latitude,train_Longitude,train_MedHouseVal,train_Population,price ,cf_features,train_size)\n",
    "    #df/da\n",
    "    cf_features[0]= cf_features - learn_rate*(dj_da)*cf_features[0]\n",
    "    \n",
    "    \n",
    "\n",
    "    "
   ]
  }
 ],
 "metadata": {
  "kernelspec": {
   "display_name": "Python 3 (ipykernel)",
   "language": "python",
   "name": "python3"
  },
  "language_info": {
   "codemirror_mode": {
    "name": "ipython",
    "version": 3
   },
   "file_extension": ".py",
   "mimetype": "text/x-python",
   "name": "python",
   "nbconvert_exporter": "python",
   "pygments_lexer": "ipython3",
   "version": "3.9.6"
  }
 },
 "nbformat": 4,
 "nbformat_minor": 5
}
