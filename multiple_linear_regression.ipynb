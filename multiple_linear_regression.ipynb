{
 "cells": [
  {
   "cell_type": "markdown",
   "id": "a66bec4b-15d4-44fd-ae74-8850a3991cb0",
   "metadata": {},
   "source": [
    "# multiple linear regression \n"
   ]
  },
  {
   "cell_type": "markdown",
   "id": "b07cc107",
   "metadata": {},
   "source": [
    "### importing libraries"
   ]
  },
  {
   "cell_type": "code",
   "execution_count": 1,
   "id": "3882a5d6-1083-45dd-a57b-a2232f2cc5d3",
   "metadata": {},
   "outputs": [],
   "source": [
    "from sklearn.datasets import fetch_california_housing\n",
    "import pandas as pd\n",
    "import numpy as np"
   ]
  },
  {
   "cell_type": "markdown",
   "id": "da881f9f",
   "metadata": {},
   "source": [
    "### extracting dataframe"
   ]
  },
  {
   "cell_type": "code",
   "execution_count": 2,
   "id": "a3f76cd3-f9e2-4198-a853-6c4f657b901c",
   "metadata": {},
   "outputs": [],
   "source": [
    "data = fetch_california_housing(as_frame =True)\n",
    "df = pd.DataFrame(data.frame)\n",
    "features=df.columns.tolist()\n",
    "price = data.target\n",
    "size = 20640\n",
    "train_size = (int)(0.8*size)\n",
    "test_size = size - train_size"
   ]
  },
  {
   "cell_type": "markdown",
   "id": "7340d1e4",
   "metadata": {},
   "source": [
    "# scaling data\n"
   ]
  },
  {
   "cell_type": "code",
   "execution_count": 3,
   "id": "1ea5a1bc",
   "metadata": {},
   "outputs": [],
   "source": [
    "scaled_data = df.copy()\n",
    "\n",
    "for x in features:\n",
    "    m = df[x].mean()\n",
    "    sd = df[x].std()\n",
    "    scaled_data[x] = (df[x] - m) / sd\n",
    "scaled_data\n",
    "scaled_price = (price-np.mean(price))/np.std(price)"
   ]
  },
  {
   "cell_type": "markdown",
   "id": "b663138a-a7ba-4bc5-9e5f-b26114dffb80",
   "metadata": {},
   "source": [
    "# extract all features"
   ]
  },
  {
   "cell_type": "code",
   "execution_count": 4,
   "id": "097c0027-7ea1-4cd7-9be0-223cb93a051a",
   "metadata": {},
   "outputs": [],
   "source": [
    "medinc=np.array(scaled_data['MedInc'])\n",
    "HouseAge=np.array(scaled_data['HouseAge'])\n",
    "AveRooms=np.array(scaled_data['AveRooms'])\n",
    "AveBedrms = np.array(scaled_data['AveBedrms'])\n",
    "Population=np.array(scaled_data['Population'])\n",
    "AveOccup = np.array(scaled_data['AveOccup'])\n",
    "Latitude=np.array(scaled_data['Latitude'])\n",
    "Longitude = np.array(scaled_data['Longitude'])\n",
    "MedHouseVal = np.array(scaled_data['MedHouseVal'])\n",
    "no_features=10"
   ]
  },
  {
   "cell_type": "markdown",
   "id": "5eb5d504-5903-43ad-8ee9-61babdd33a55",
   "metadata": {},
   "source": [
    "# split train and test data"
   ]
  },
  {
   "cell_type": "code",
   "execution_count": 5,
   "id": "5951dd69-53d6-4785-b90f-85386dc797c1",
   "metadata": {},
   "outputs": [],
   "source": [
    "# training data\n",
    "train_price =np.array( scaled_price[:train_size])\n",
    "train_medinc=np.array(medinc[:train_size])\n",
    "train_HouseAge=np.array(HouseAge[:train_size])\n",
    "train_AveRooms=np.array(AveRooms[:train_size])\n",
    "train_AveBedrms = np.array(AveBedrms[:train_size])\n",
    "train_Population=np.array(Population[:train_size])\n",
    "train_AveOccup = np.array(AveOccup[:train_size])\n",
    "train_Latitude = np.array(Latitude[:train_size])\n",
    "train_Longitude = np.array(Longitude[:train_size])\n",
    "train_MedHouseVal = np.array(MedHouseVal[:train_size])\n",
    "\n",
    "train_data1 = np.vstack((train_medinc,train_HouseAge,train_AveRooms,train_AveBedrms,train_Population,train_AveOccup,train_Latitude,train_Longitude,train_MedHouseVal,np.ones(train_size)))\n",
    "\n",
    "test_price =np.array( scaled_price[train_size:])\n",
    "test_medinc=np.array(medinc[train_size:])\n",
    "test_HouseAge=np.array(HouseAge[train_size:])\n",
    "test_AveRooms=np.array(AveRooms[train_size:])\n",
    "test_AveBedrms = np.array(AveBedrms[train_size:])\n",
    "test_Population=np.array(Population[train_size:])\n",
    "test_AveOccup = np.array(AveOccup[train_size:])\n",
    "test_Latitude = np.array(Latitude[train_size:])\n",
    "test_Longitude = np.array(Longitude[train_size:])\n",
    "test_MedHouseVal = np.array(MedHouseVal[train_size:])\n",
    "test_data = np.vstack((test_medinc,test_HouseAge,test_AveRooms,test_AveBedrms,test_Population,test_AveOccup,test_Latitude,test_Longitude,test_MedHouseVal))\n",
    "\n"
   ]
  },
  {
   "cell_type": "markdown",
   "id": "db96316e-b2a9-4aaa-939f-39e5636b0828",
   "metadata": {},
   "source": [
    "### prediction straight line equation\n",
    "**price = a\\*a_ + b\\*b_ + c\\*c_ + d\\*d_ + e\\*e_ + f\\*f_ + g\\*g_ h\\*h_ + const**   \n",
    "*x => coefficient of variable x*   \n",
    "*x_ => variable x*   \n",
    "- a -> 'MedInc'  \n",
    "- b -> 'HouseAge'   \n",
    "- c -> 'AveRooms'   \n",
    "- d -> 'AveBedrms'    \n",
    "- e -> 'Population'    \n",
    "- f -> 'AveOccup'\n",
    "- g -> 'Latitude'    \n",
    "- h -> 'Longitude'   \n",
    "- i -> 'MedHouseVal"
   ]
  },
  {
   "cell_type": "code",
   "execution_count": 6,
   "id": "a49b1ce0-90ca-4d34-bd84-7603d8ba07a6",
   "metadata": {},
   "outputs": [],
   "source": [
    "def der_loss(price ,cf_features,train_size,k,train_data):\n",
    "    diff=0\n",
    "    error = np.zeros(train_size)\n",
    "    for i in range (0,train_size):\n",
    "        predicted_price= (cf_features[0]*train_data[0][i]) + (cf_features[1]*train_data[1][i]) + (cf_features[2]*train_data[2][i]) + (cf_features[3]*train_data[3][i]) + (cf_features[4]*train_data[4][i]) + (cf_features[5]*train_data[5][i]) +( cf_features[6]*train_data[6][i] )+ (cf_features[7]*train_data[7][i]) + (cf_features[8]*train_data[8][i]) + cf_features[9]\n",
    "        error[i] = (-price[i]+predicted_price)*train_data[k][i]\n",
    "    return np.average(error)\n"
   ]
  },
  {
   "cell_type": "code",
   "execution_count": 7,
   "id": "5ce2b7d1-7c61-439a-9c2e-c25b3dce9e84",
   "metadata": {},
   "outputs": [
    {
     "ename": "KeyboardInterrupt",
     "evalue": "",
     "output_type": "error",
     "traceback": [
      "\u001b[0;31m---------------------------------------------------------------------------\u001b[0m",
      "\u001b[0;31mKeyboardInterrupt\u001b[0m                         Traceback (most recent call last)",
      "Cell \u001b[0;32mIn[7], line 5\u001b[0m\n\u001b[1;32m      2\u001b[0m cf_features \u001b[38;5;241m=\u001b[39m np\u001b[38;5;241m.\u001b[39mones(no_features)\n\u001b[1;32m      3\u001b[0m \u001b[38;5;28;01mfor\u001b[39;00m i \u001b[38;5;129;01min\u001b[39;00m \u001b[38;5;28mrange\u001b[39m (\u001b[38;5;241m0\u001b[39m,\u001b[38;5;241m1000\u001b[39m):\n\u001b[1;32m      4\u001b[0m     \u001b[38;5;66;03m#loss=der_loss(train_medinc,train_AveBedrms,train_AveOccup,train_AveRooms,train_HouseAge,train_Latitude,train_Longitude,train_MedHouseVal,train_Population,train_price ,cf_features,train_size)\u001b[39;00m\n\u001b[0;32m----> 5\u001b[0m     cf_features[\u001b[38;5;241m0\u001b[39m]\u001b[38;5;241m-\u001b[39m\u001b[38;5;241m=\u001b[39m (learn_rate\u001b[38;5;241m*\u001b[39m\u001b[38;5;241m2\u001b[39m\u001b[38;5;241m*\u001b[39m\u001b[43mder_loss\u001b[49m\u001b[43m(\u001b[49m\u001b[43mtrain_price\u001b[49m\u001b[43m,\u001b[49m\u001b[43mcf_features\u001b[49m\u001b[43m,\u001b[49m\u001b[43mtrain_size\u001b[49m\u001b[43m,\u001b[49m\u001b[38;5;241;43m0\u001b[39;49m\u001b[43m,\u001b[49m\u001b[43mtrain_data1\u001b[49m\u001b[43m,\u001b[49m\u001b[43m)\u001b[49m)\n\u001b[1;32m      6\u001b[0m     cf_features[\u001b[38;5;241m1\u001b[39m]\u001b[38;5;241m-\u001b[39m\u001b[38;5;241m=\u001b[39m (learn_rate\u001b[38;5;241m*\u001b[39m\u001b[38;5;241m2\u001b[39m\u001b[38;5;241m*\u001b[39mder_loss(train_price,cf_features,train_size,\u001b[38;5;241m1\u001b[39m,train_data1,))\n\u001b[1;32m      7\u001b[0m     cf_features[\u001b[38;5;241m2\u001b[39m]\u001b[38;5;241m-\u001b[39m\u001b[38;5;241m=\u001b[39m (learn_rate\u001b[38;5;241m*\u001b[39m\u001b[38;5;241m2\u001b[39m\u001b[38;5;241m*\u001b[39mder_loss(train_price,cf_features,train_size,\u001b[38;5;241m2\u001b[39m,train_data1,))\n",
      "Cell \u001b[0;32mIn[6], line 5\u001b[0m, in \u001b[0;36mder_loss\u001b[0;34m(price, cf_features, train_size, k, train_data)\u001b[0m\n\u001b[1;32m      3\u001b[0m error \u001b[38;5;241m=\u001b[39m np\u001b[38;5;241m.\u001b[39mzeros(train_size)\n\u001b[1;32m      4\u001b[0m \u001b[38;5;28;01mfor\u001b[39;00m i \u001b[38;5;129;01min\u001b[39;00m \u001b[38;5;28mrange\u001b[39m (\u001b[38;5;241m0\u001b[39m,train_size):\n\u001b[0;32m----> 5\u001b[0m     predicted_price\u001b[38;5;241m=\u001b[39m (cf_features[\u001b[38;5;241m0\u001b[39m]\u001b[38;5;241m*\u001b[39m\u001b[43mtrain_data\u001b[49m\u001b[43m[\u001b[49m\u001b[38;5;241;43m0\u001b[39;49m\u001b[43m]\u001b[49m\u001b[43m[\u001b[49m\u001b[43mi\u001b[49m\u001b[43m]\u001b[49m) \u001b[38;5;241m+\u001b[39m (cf_features[\u001b[38;5;241m1\u001b[39m]\u001b[38;5;241m*\u001b[39mtrain_data[\u001b[38;5;241m1\u001b[39m][i]) \u001b[38;5;241m+\u001b[39m (cf_features[\u001b[38;5;241m2\u001b[39m]\u001b[38;5;241m*\u001b[39mtrain_data[\u001b[38;5;241m2\u001b[39m][i]) \u001b[38;5;241m+\u001b[39m (cf_features[\u001b[38;5;241m3\u001b[39m]\u001b[38;5;241m*\u001b[39mtrain_data[\u001b[38;5;241m3\u001b[39m][i]) \u001b[38;5;241m+\u001b[39m (cf_features[\u001b[38;5;241m4\u001b[39m]\u001b[38;5;241m*\u001b[39mtrain_data[\u001b[38;5;241m4\u001b[39m][i]) \u001b[38;5;241m+\u001b[39m (cf_features[\u001b[38;5;241m5\u001b[39m]\u001b[38;5;241m*\u001b[39mtrain_data[\u001b[38;5;241m5\u001b[39m][i]) \u001b[38;5;241m+\u001b[39m( cf_features[\u001b[38;5;241m6\u001b[39m]\u001b[38;5;241m*\u001b[39mtrain_data[\u001b[38;5;241m6\u001b[39m][i] )\u001b[38;5;241m+\u001b[39m (cf_features[\u001b[38;5;241m7\u001b[39m]\u001b[38;5;241m*\u001b[39mtrain_data[\u001b[38;5;241m7\u001b[39m][i]) \u001b[38;5;241m+\u001b[39m (cf_features[\u001b[38;5;241m8\u001b[39m]\u001b[38;5;241m*\u001b[39mtrain_data[\u001b[38;5;241m8\u001b[39m][i]) \u001b[38;5;241m+\u001b[39m cf_features[\u001b[38;5;241m9\u001b[39m]\n\u001b[1;32m      6\u001b[0m     error[i] \u001b[38;5;241m=\u001b[39m (\u001b[38;5;241m-\u001b[39mprice[i]\u001b[38;5;241m+\u001b[39mpredicted_price)\u001b[38;5;241m*\u001b[39mtrain_data[k][i]\n\u001b[1;32m      7\u001b[0m \u001b[38;5;28;01mreturn\u001b[39;00m np\u001b[38;5;241m.\u001b[39maverage(error)\n",
      "\u001b[0;31mKeyboardInterrupt\u001b[0m: "
     ]
    }
   ],
   "source": [
    "learn_rate = 0.01\n",
    "cf_features = np.ones(no_features)\n",
    "for i in range (0,1000):\n",
    "    #loss=der_loss(train_medinc,train_AveBedrms,train_AveOccup,train_AveRooms,train_HouseAge,train_Latitude,train_Longitude,train_MedHouseVal,train_Population,train_price ,cf_features,train_size)\n",
    "    cf_features[0]-= (learn_rate*2*der_loss(train_price,cf_features,train_size,0,train_data1,))\n",
    "    cf_features[1]-= (learn_rate*2*der_loss(train_price,cf_features,train_size,1,train_data1,))\n",
    "    cf_features[2]-= (learn_rate*2*der_loss(train_price,cf_features,train_size,2,train_data1,))\n",
    "    cf_features[3]-= (learn_rate*2*der_loss(train_price,cf_features,train_size,3,train_data1,))\n",
    "    cf_features[4]-= (learn_rate*2*der_loss(train_price,cf_features,train_size,4,train_data1,))\n",
    "    cf_features[5]-= (learn_rate*2*der_loss(train_price,cf_features,train_size,5,train_data1,))\n",
    "    cf_features[6]-= (learn_rate*2*der_loss(train_price,cf_features,train_size,6,train_data1,))\n",
    "    cf_features[7]-= (learn_rate*2*der_loss(train_price,cf_features,train_size,7,train_data1,))\n",
    "    cf_features[8]-= (learn_rate*2*der_loss(train_price,cf_features,train_size,8,train_data1,))\n",
    "    cf_features[9]-= (learn_rate*2*der_loss(train_price,cf_features,train_size,9,train_data1,))"
   ]
  },
  {
   "cell_type": "markdown",
   "id": "bef0040e",
   "metadata": {},
   "source": [
    "# testing model"
   ]
  }
 ],
 "metadata": {
  "kernelspec": {
   "display_name": "Python 3",
   "language": "python",
   "name": "python3"
  },
  "language_info": {
   "codemirror_mode": {
    "name": "ipython",
    "version": 3
   },
   "file_extension": ".py",
   "mimetype": "text/x-python",
   "name": "python",
   "nbconvert_exporter": "python",
   "pygments_lexer": "ipython3",
   "version": "3.9.6"
  }
 },
 "nbformat": 4,
 "nbformat_minor": 5
}
