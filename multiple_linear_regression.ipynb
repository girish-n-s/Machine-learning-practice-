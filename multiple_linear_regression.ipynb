{
 "cells": [
  {
   "cell_type": "markdown",
   "id": "a66bec4b-15d4-44fd-ae74-8850a3991cb0",
   "metadata": {},
   "source": [
    "# multiple linear regression \n"
   ]
  },
  {
   "cell_type": "markdown",
   "id": "b07cc107",
   "metadata": {},
   "source": [
    "### importing libraries"
   ]
  },
  {
   "cell_type": "code",
   "execution_count": 7,
   "id": "3882a5d6-1083-45dd-a57b-a2232f2cc5d3",
   "metadata": {},
   "outputs": [],
   "source": [
    "from sklearn.datasets import fetch_california_housing\n",
    "import pandas as pd\n",
    "import numpy as np\n",
    "import math\n",
    "import matplotlib.pyplot as plt "
   ]
  },
  {
   "cell_type": "markdown",
   "id": "da881f9f",
   "metadata": {},
   "source": [
    "### extracting dataframe"
   ]
  },
  {
   "cell_type": "code",
   "execution_count": 8,
   "id": "a3f76cd3-f9e2-4198-a853-6c4f657b901c",
   "metadata": {},
   "outputs": [
    {
     "name": "stdout",
     "output_type": "stream",
     "text": [
      "2.815\n"
     ]
    }
   ],
   "source": [
    "data = fetch_california_housing(as_frame =True)\n",
    "df = pd.DataFrame(data.frame)\n",
    "features=df.columns.tolist()\n",
    "price = data.target\n",
    "size = 20640\n",
    "train_size = (int)(0.8*size)\n",
    "test_size = size - train_size\n",
    "df.head()\n",
    "print(price[10])"
   ]
  },
  {
   "cell_type": "markdown",
   "id": "3571f2a4",
   "metadata": {},
   "source": [
    "### orignal_data"
   ]
  },
  {
   "cell_type": "code",
   "execution_count": 9,
   "id": "dc65e3b4",
   "metadata": {},
   "outputs": [],
   "source": [
    "original_medinc=np.array(df['MedInc'])\n",
    "original_HouseAge=np.array(df['HouseAge'])\n",
    "original_AveRooms=np.array(df['AveRooms'])\n",
    "original_AveBedrms = np.array(df['AveBedrms'])\n",
    "original_Population=np.array(df['Population'])\n",
    "original_AveOccup = np.array(df['AveOccup'])\n",
    "original_Latitude=np.array(df['Latitude'])\n",
    "original_Longitude = np.array(df['Longitude'])\n",
    "original_MedHouseVal = np.array(df['MedHouseVal'])\n"
   ]
  },
  {
   "cell_type": "markdown",
   "id": "7340d1e4",
   "metadata": {},
   "source": [
    "# scaling data\n"
   ]
  },
  {
   "cell_type": "code",
   "execution_count": 10,
   "id": "1ea5a1bc",
   "metadata": {},
   "outputs": [],
   "source": [
    "scaled_data = df.copy()\n",
    "features_mean = np.zeros(9)\n",
    "features_std = np.zeros(9)\n",
    "i=0\n",
    "for x in features:\n",
    "    m = df[x].mean()\n",
    "    sd = df[x].std()\n",
    "    scaled_data[x] = (df[x] - m) / sd\n",
    "    features_mean[i]=m\n",
    "    features_std[i]=sd\n",
    "    i+=1\n",
    "scaled_data\n",
    "price_mean = np.mean(price)\n",
    "price_std = np.std(price)\n",
    "scaled_price = (price-np.mean(price))/np.std(price)"
   ]
  },
  {
   "cell_type": "markdown",
   "id": "b663138a-a7ba-4bc5-9e5f-b26114dffb80",
   "metadata": {},
   "source": [
    "# extract all features"
   ]
  },
  {
   "cell_type": "code",
   "execution_count": 11,
   "id": "097c0027-7ea1-4cd7-9be0-223cb93a051a",
   "metadata": {},
   "outputs": [],
   "source": [
    "medinc=np.array(scaled_data['MedInc'])\n",
    "HouseAge=np.array(scaled_data['HouseAge'])\n",
    "AveRooms=np.array(scaled_data['AveRooms'])\n",
    "AveBedrms = np.array(scaled_data['AveBedrms'])\n",
    "Population=np.array(scaled_data['Population'])\n",
    "AveOccup = np.array(scaled_data['AveOccup'])\n",
    "Latitude=np.array(scaled_data['Latitude'])\n",
    "Longitude = np.array(scaled_data['Longitude'])\n",
    "MedHouseVal = np.array(scaled_data['MedHouseVal'])\n",
    "no_features=10"
   ]
  },
  {
   "cell_type": "markdown",
   "id": "5eb5d504-5903-43ad-8ee9-61babdd33a55",
   "metadata": {},
   "source": [
    "# split train and test data"
   ]
  },
  {
   "cell_type": "code",
   "execution_count": 12,
   "id": "5951dd69-53d6-4785-b90f-85386dc797c1",
   "metadata": {},
   "outputs": [],
   "source": [
    "# training data\n",
    "train_price =np.array( scaled_price[:train_size])\n",
    "train_medinc=np.array(medinc[:train_size])\n",
    "train_HouseAge=np.array(HouseAge[:train_size])\n",
    "train_AveRooms=np.array(AveRooms[:train_size])\n",
    "train_AveBedrms = np.array(AveBedrms[:train_size])\n",
    "train_Population=np.array(Population[:train_size])\n",
    "train_AveOccup = np.array(AveOccup[:train_size])\n",
    "train_Latitude = np.array(Latitude[:train_size])\n",
    "train_Longitude = np.array(Longitude[:train_size])\n",
    "train_MedHouseVal = np.array(MedHouseVal[:train_size])\n",
    "\n",
    "train_data1 = np.vstack((train_medinc,train_HouseAge,train_AveRooms,train_AveBedrms,train_Population,train_AveOccup,train_Latitude,train_Longitude,train_MedHouseVal,np.ones(train_size)))\n",
    "\n",
    "test_price =np.array( scaled_price[train_size:])\n",
    "test_medinc=np.array(medinc[train_size:])\n",
    "test_HouseAge=np.array(HouseAge[train_size:])\n",
    "test_AveRooms=np.array(AveRooms[train_size:])\n",
    "test_AveBedrms = np.array(AveBedrms[train_size:])\n",
    "test_Population=np.array(Population[train_size:])\n",
    "test_AveOccup = np.array(AveOccup[train_size:])\n",
    "test_Latitude = np.array(Latitude[train_size:])\n",
    "test_Longitude = np.array(Longitude[train_size:])\n",
    "test_MedHouseVal = np.array(MedHouseVal[train_size:])\n",
    "test_data = np.vstack((test_medinc,test_HouseAge,test_AveRooms,test_AveBedrms,test_Population,test_AveOccup,test_Latitude,test_Longitude,test_MedHouseVal))\n",
    "\n"
   ]
  },
  {
   "cell_type": "markdown",
   "id": "db96316e-b2a9-4aaa-939f-39e5636b0828",
   "metadata": {},
   "source": [
    "### prediction straight line equation\n",
    "**price = a\\*a_ + b\\*b_ + c\\*c_ + d\\*d_ + e\\*e_ + f\\*f_ + g\\*g_ h\\*h_ + const**   \n",
    "*x => coefficient of variable x*   \n",
    "*x_ => variable x*   \n",
    "- a -> 'MedInc'  \n",
    "- b -> 'HouseAge'   \n",
    "- c -> 'AveRooms'   \n",
    "- d -> 'AveBedrms'    \n",
    "- e -> 'Population'    \n",
    "- f -> 'AveOccup'\n",
    "- g -> 'Latitude'    \n",
    "- h -> 'Longitude'   \n",
    "- i -> 'MedHouseVal"
   ]
  },
  {
   "cell_type": "code",
   "execution_count": 13,
   "id": "a49b1ce0-90ca-4d34-bd84-7603d8ba07a6",
   "metadata": {},
   "outputs": [],
   "source": [
    "def der_loss(price ,cf_features,train_size,k,train_data):\n",
    "    diff=0\n",
    "    error = np.zeros(train_size)\n",
    "    for i in range (0,train_size):\n",
    "        predicted_price= (cf_features[0]*train_data[0][i]) + (cf_features[1]*train_data[1][i]) + (cf_features[2]*train_data[2][i]) + (cf_features[3]*train_data[3][i]) + (cf_features[4]*train_data[4][i]) + (cf_features[5]*train_data[5][i]) +( cf_features[6]*train_data[6][i] )+ (cf_features[7]*train_data[7][i]) + (cf_features[8]*train_data[8][i]) + cf_features[9]\n",
    "        error[i] = (-price[i]+predicted_price)*train_data[k][i]\n",
    "    return np.average(error)\n"
   ]
  },
  {
   "cell_type": "code",
   "execution_count": 14,
   "id": "5ce2b7d1-7c61-439a-9c2e-c25b3dce9e84",
   "metadata": {},
   "outputs": [],
   "source": [
    "learn_rate = 0.01\n",
    "cf_features = np.ones(no_features)\n",
    "for i in range (0,1000):\n",
    "    #loss=der_loss(train_medinc,train_AveBedrms,train_AveOccup,train_AveRooms,train_HouseAge,train_Latitude,train_Longitude,train_MedHouseVal,train_Population,train_price ,cf_features,train_size)\n",
    "    cf_features[0]-= (learn_rate*2*der_loss(train_price,cf_features,train_size,0,train_data1,))\n",
    "    cf_features[1]-= (learn_rate*2*der_loss(train_price,cf_features,train_size,1,train_data1,))\n",
    "    cf_features[2]-= (learn_rate*2*der_loss(train_price,cf_features,train_size,2,train_data1,))\n",
    "    cf_features[3]-= (learn_rate*2*der_loss(train_price,cf_features,train_size,3,train_data1,))\n",
    "    cf_features[4]-= (learn_rate*2*der_loss(train_price,cf_features,train_size,4,train_data1,))\n",
    "    cf_features[5]-= (learn_rate*2*der_loss(train_price,cf_features,train_size,5,train_data1,))\n",
    "    cf_features[6]-= (learn_rate*2*der_loss(train_price,cf_features,train_size,6,train_data1,))\n",
    "    cf_features[7]-= (learn_rate*2*der_loss(train_price,cf_features,train_size,7,train_data1,))\n",
    "    cf_features[8]-= (learn_rate*2*der_loss(train_price,cf_features,train_size,8,train_data1,))\n",
    "    cf_features[9]-= (learn_rate*2*der_loss(train_price,cf_features,train_size,9,train_data1,))"
   ]
  },
  {
   "cell_type": "markdown",
   "id": "bef0040e",
   "metadata": {},
   "source": [
    "# testing model"
   ]
  },
  {
   "cell_type": "markdown",
   "id": "a70f1a12",
   "metadata": {},
   "source": [
    "### predict price and scale back to original values"
   ]
  },
  {
   "cell_type": "code",
   "execution_count": 25,
   "id": "7396c2be",
   "metadata": {},
   "outputs": [
    {
     "name": "stdout",
     "output_type": "stream",
     "text": [
      "<class 'numpy.ndarray'>\n",
      "4128\n"
     ]
    }
   ],
   "source": [
    "actual_price = np.array(price[train_size:])\n",
    "scaled_predicted_price = np.zeros(test_size)\n",
    "print(type(scaled_predicted_price))\n",
    "print(len(scaled_predicted_price))\n",
    "for i in range (0,test_size):\n",
    "    scaled_predicted_price[i] = (cf_features[0]* test_data[0][i])+(cf_features[1]* test_data[1][i])+(cf_features[2]* test_data[2][i])+(cf_features[3]* test_data[3][i])+(cf_features[4]* test_data[4][i])+(cf_features[5]* test_data[5][i])+(cf_features[6]* test_data[6][i])+(cf_features[7]* test_data[7][i])+(cf_features[8]* test_data[8][i])+cf_features[9]\n",
    "actual_predicted_price = (scaled_predicted_price*np.std(price))+np.mean(price)"
   ]
  },
  {
   "cell_type": "markdown",
   "id": "29698d4d",
   "metadata": {},
   "source": [
    "### evalution of model"
   ]
  },
  {
   "cell_type": "code",
   "execution_count": 26,
   "id": "6e0462b3",
   "metadata": {},
   "outputs": [
    {
     "name": "stdout",
     "output_type": "stream",
     "text": [
      "0.05158303432459595\n",
      "0.2271189871512198\n"
     ]
    }
   ],
   "source": [
    "### calculating MSE\n",
    "error = np.zeros(test_size)\n",
    "for i in range (0,test_size):\n",
    "    error[i]= (actual_price[i]-actual_predicted_price[i])**2\n",
    "mse = np.sum(error)/test_size\n",
    "\n",
    "print(mse)\n",
    "# rmse\n",
    "rmse = math.sqrt(mse)\n",
    "print(rmse)"
   ]
  },
  {
   "cell_type": "code",
   "execution_count": 27,
   "id": "4968071a",
   "metadata": {},
   "outputs": [
    {
     "name": "stdout",
     "output_type": "stream",
     "text": [
      "1.6354773121613355\n",
      "1.656\n"
     ]
    }
   ],
   "source": [
    "print(actual_predicted_price[0])\n",
    "print(actual_price[0])"
   ]
  },
  {
   "cell_type": "code",
   "execution_count": 28,
   "id": "173d4f8d",
   "metadata": {},
   "outputs": [
    {
     "data": {
      "image/png": "[encoded data removed]",
      "text/plain": [
       "<Figure size 1200x600 with 1 Axes>"
      ]
     },
     "metadata": {},
     "output_type": "display_data"
    }
   ],
   "source": [
    "import matplotlib.pyplot as plt\n",
    "\n",
    "# Plot actual vs predicted price\n",
    "plt.figure(figsize=(12, 6))\n",
    "plt.plot(actual_price[:100], label='Actual Price', color='blue')\n",
    "plt.plot(actual_predicted_price[:100], label='Predicted Price', color='red')\n",
    "plt.title(\"Actual vs Predicted House Prices\")\n",
    "plt.xlabel(\"Sample Index\")\n",
    "plt.ylabel(\"Price\")\n",
    "plt.legend()\n",
    "plt.grid(True)\n",
    "plt.show()\n"
   ]
  },
  {
   "cell_type": "code",
   "execution_count": 19,
   "id": "1fb6ae3a",
   "metadata": {},
   "outputs": [
    {
     "name": "stdout",
     "output_type": "stream",
     "text": [
      "-0.5928824753752109\n",
      "0.18755732869712857\n",
      "-0.5323940411924901\n",
      "-0.005396589908654656\n",
      "-0.8525466111670129\n",
      "-0.0351214197766116\n",
      "1.0150687667350033\n",
      "-0.8187020566702551\n",
      "-0.9762573392001226\n"
     ]
    }
   ],
   "source": [
    "for i in range(0,9):\n",
    "    print(test_data[i][5])"
   ]
  },
  {
   "cell_type": "markdown",
   "id": "414b71f2",
   "metadata": {},
   "source": [
    "### store trained model"
   ]
  },
  {
   "cell_type": "code",
   "execution_count": 20,
   "id": "20951280",
   "metadata": {},
   "outputs": [],
   "source": [
    "import json\n",
    "cf_features_list = cf_features[:9].tolist()\n",
    "model_data={\n",
    "    \"features\" : features,\n",
    "    \"co-efficients\" : cf_features_list,\n",
    "    \"intercept\" : cf_features[9],\n",
    "    \"mse\" : mse,\n",
    "    \"rmse\" : rmse,\n",
    "    \"features_mean\" : features_mean.tolist(),\n",
    "    \"features_std\" : features_std.tolist(),\n",
    "    \"price_mean\" : price_mean,\n",
    "    \"price_std\" : price_std\n",
    "}\n",
    "with open(\"custom_mlr_model.json\",'w') as f:\n",
    "    json.dump(model_data , f)"
   ]
  },
  {
   "cell_type": "code",
   "execution_count": 21,
   "id": "f9b7f60b",
   "metadata": {},
   "outputs": [
    {
     "name": "stdout",
     "output_type": "stream",
     "text": [
      "['MedInc', 'HouseAge', 'AveRooms', 'AveBedrms', 'Population', 'AveOccup', 'Latitude', 'Longitude', 'MedHouseVal']\n"
     ]
    }
   ],
   "source": [
    "print(features)"
   ]
  },
  {
   "cell_type": "markdown",
   "id": "7469d216",
   "metadata": {},
   "source": [
    "### Load model"
   ]
  },
  {
   "cell_type": "code",
   "execution_count": 22,
   "id": "a0badb4e",
   "metadata": {},
   "outputs": [],
   "source": [
    "import json\n",
    "with open(\"custom_mlr_model.json\",'r') as f:\n",
    "    model_data = json.load(f)\n",
    "    co_efficients_data = model_data['co-efficients']\n",
    "    intercept = model_data['intercept']\n",
    "    features_mean_data = model_data['features_mean']\n",
    "    features_std_data = model_data['features_std']\n",
    "    price_mean_data = model_data['price_mean']\n",
    "    price_std_data = model_data['price_std']\n",
    "\n"
   ]
  },
  {
   "cell_type": "code",
   "execution_count": 23,
   "id": "7b2b0146",
   "metadata": {},
   "outputs": [],
   "source": [
    "# test data\n",
    "\n",
    "test_list = [original_medinc[i],original_HouseAge[i],original_AveRooms[i],original_AveBedrms[i],original_Population[i],original_AveOccup[i],original_Latitude[i],original_Longitude[i],original_MedHouseVal[i]]\n",
    "test = np.array(test_list)\n",
    "scaled_test= np.zeros(9)\n",
    "for i in range (0,9):\n",
    "    scaled_test[i]= (test[i]-features_mean_data[i])/features_std_data[i]\n",
    "\n"
   ]
  },
  {
   "cell_type": "markdown",
   "id": "9b4143f4",
   "metadata": {},
   "source": [
    "### predict price"
   ]
  },
  {
   "cell_type": "code",
   "execution_count": 24,
   "id": "1bf5166b",
   "metadata": {},
   "outputs": [
    {
     "name": "stdout",
     "output_type": "stream",
     "text": [
      "predicted_price :\n",
      "2.1764379119489368\n"
     ]
    }
   ],
   "source": [
    "test_pred_price_scaled =0\n",
    "for i in range(0,9):\n",
    "    test_pred_price_scaled+= (co_efficients_data[i]*scaled_test[i])\n",
    "test_pred_price_scaled+=intercept\n",
    "test_pred_price = (test_pred_price_scaled*price_std_data)+price_mean_data\n",
    "print(\"predicted_price :\")\n",
    "print(test_pred_price)"
   ]
  }
 ],
 "metadata": {
  "kernelspec": {
   "display_name": "Python 3",
   "language": "python",
   "name": "python3"
  },
  "language_info": {
   "codemirror_mode": {
    "name": "ipython",
    "version": 3
   },
   "file_extension": ".py",
   "mimetype": "text/x-python",
   "name": "python",
   "nbconvert_exporter": "python",
   "pygments_lexer": "ipython3",
   "version": "3.9.6"
  }
 },
 "nbformat": 4,
 "nbformat_minor": 5
}
