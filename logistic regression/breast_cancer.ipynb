{
 "cells": [
  {
   "cell_type": "markdown",
   "id": "28c32712",
   "metadata": {},
   "source": [
    "# Logistic Regression for Breast Cancer Prediction\n",
    "\n",
    "The **Breast Cancer dataset** consists of **30 different variables** used to predict whether a tumor is **malignant** or **benign**.\n",
    "\n",
    "## Logistic Regression Model\n",
    "\n",
    "In logistic regression, we compute the probability that a sample belongs to the malignant class using the sigmoid function:\n",
    "\n",
    "$p(x) = \\frac{1}{1 + e^{-z}}$\n",
    "\n",
    "- If \\( p(x) > 0.5 \\), the tumor is classified as **malignant**.\n",
    "- Otherwise, it is classified as **benign**.\n",
    "\n",
    "## Role of the Sigmoid Function\n",
    "\n",
    "The function \\( p(x) \\) is the **sigmoid function**, which maps the **weighted contribution of all features** from the range \\( [-\\infty, \\infty] \\) to a probability in the range \\( [0, 1] \\).\n",
    "\n",
    "## What is \\( z \\)?\n",
    "\n",
    "The variable \\( z \\) is a **linear combination** of all the features that contribute to the classification:\n",
    "\n",
    "\n",
    "$ z = a_1 \\cdot x_1 + a_2 \\cdot x_2 + \\ldots + a_n \\cdot x_n + b $\n",
    "\n",
    "\n",
    "- $ ( a_1, a_2, \\ldots, a_n )$ are the **weights** learned during training.\n",
    "- \\( x_1, x_2, \\ldots, x_n \\) are the **input features** (30 in total).\n",
    "- \\( b \\) is the **bias term**.\n",
    "\n",
    "This value of \\( z \\) determines how likely the input is to be classified as malignant or benign, with the sigmoid function translating it into a probability.\n",
    "\n",
    "---\n",
    "\n"
   ]
  },
  {
   "cell_type": "markdown",
   "id": "0bd6bbed",
   "metadata": {},
   "source": [
    "### importing libraries"
   ]
  },
  {
   "cell_type": "code",
   "execution_count": 21,
   "id": "1cb27471",
   "metadata": {},
   "outputs": [],
   "source": [
    "from sklearn.datasets import load_breast_cancer\n",
    "from sklearn.model_selection import train_test_split\n",
    "import pandas as pd\n",
    "import numpy as np"
   ]
  },
  {
   "cell_type": "markdown",
   "id": "734becba",
   "metadata": {},
   "source": [
    "### extracting dataframe"
   ]
  },
  {
   "cell_type": "code",
   "execution_count": 22,
   "id": "3ab12b67",
   "metadata": {},
   "outputs": [
    {
     "name": "stdout",
     "output_type": "stream",
     "text": [
      "30\n",
      "['mean radius', 'mean texture', 'mean perimeter', 'mean area', 'mean smoothness', 'mean compactness', 'mean concavity', 'mean concave points', 'mean symmetry', 'mean fractal dimension', 'radius error', 'texture error', 'perimeter error', 'area error', 'smoothness error', 'compactness error', 'concavity error', 'concave points error', 'symmetry error', 'fractal dimension error', 'worst radius', 'worst texture', 'worst perimeter', 'worst area', 'worst smoothness', 'worst compactness', 'worst concavity', 'worst concave points', 'worst symmetry', 'worst fractal dimension']\n"
     ]
    }
   ],
   "source": [
    "data = load_breast_cancer(as_frame =True)\n",
    "df = pd.DataFrame(data.frame)\n",
    "cancer = data.target\n",
    "columns = data.data\n",
    "features=columns.columns.tolist()\n",
    "size = 455+114\n",
    "train_size = 455\n",
    "test_size = size - train_size\n",
    "print(len(features))\n",
    "print(features)\n"
   ]
  },
  {
   "cell_type": "markdown",
   "id": "84af1fcc",
   "metadata": {},
   "source": [
    "### finding scaling requirements"
   ]
  },
  {
   "cell_type": "code",
   "execution_count": 23,
   "id": "775a41e7",
   "metadata": {},
   "outputs": [],
   "source": [
    "m = np.zeros(30)\n",
    "std = np.zeros(30)\n",
    "for i ,a in enumerate(features):\n",
    "    m[i]=np.mean(columns[a])\n",
    "    std[i]= np.std(columns[a])"
   ]
  },
  {
   "cell_type": "markdown",
   "id": "7ffaf9e0",
   "metadata": {},
   "source": [
    "### splitting data into train and test"
   ]
  },
  {
   "cell_type": "code",
   "execution_count": 24,
   "id": "7ba873de",
   "metadata": {},
   "outputs": [],
   "source": [
    "x= data.data\n",
    "y = data.target\n",
    "x_train,x_test,y_train,y_test = train_test_split(x,y,test_size=0.2,random_state=20)\n"
   ]
  },
  {
   "cell_type": "markdown",
   "id": "6d662c37",
   "metadata": {},
   "source": [
    "###  scaling data\n"
   ]
  },
  {
   "cell_type": "code",
   "execution_count": 25,
   "id": "b8f54da5",
   "metadata": {},
   "outputs": [
    {
     "name": "stdout",
     "output_type": "stream",
     "text": [
      "(30, 455)\n"
     ]
    }
   ],
   "source": [
    "scaled_data = np.zeros((30,train_size ))\n",
    "for i, f in enumerate(features):\n",
    "    scaled_data[i]=np.array(x_train[f])\n",
    "\n",
    "#scale\n",
    "for i in range (0,30):\n",
    "    scaled_data[i]= (scaled_data[i]-m[i])/std[i]\n",
    "print(scaled_data.shape)   \n",
    "co_eff_features = np.ones(31) # 30 number of features + 1 bias term\n",
    "co_eff_features = np.clip(co_eff_features,1e-15,1-1e-15)\n"
   ]
  },
  {
   "cell_type": "code",
   "execution_count": 26,
   "id": "dcd65514",
   "metadata": {},
   "outputs": [
    {
     "name": "stdout",
     "output_type": "stream",
     "text": [
      "(30, 114)\n"
     ]
    }
   ],
   "source": [
    "test_data = np.zeros((30,test_size ))\n",
    "for i, f in enumerate(features):\n",
    "    test_data[i]=np.array(x_test[f])\n",
    "\n",
    "#scale\n",
    "for i in range (0,30):\n",
    "    test_data[i]= (test_data[i]-m[i])/std[i]\n",
    "print(test_data.shape)   \n"
   ]
  },
  {
   "cell_type": "markdown",
   "id": "0b30a264",
   "metadata": {},
   "source": [
    "### appending bias term in train and test data (bias =1)"
   ]
  },
  {
   "cell_type": "code",
   "execution_count": 27,
   "id": "87222f2c",
   "metadata": {},
   "outputs": [
    {
     "name": "stdout",
     "output_type": "stream",
     "text": [
      "(31, 455)\n",
      "(31, 114)\n",
      "(1, 114)\n"
     ]
    }
   ],
   "source": [
    "b=np.ones((1,train_size))\n",
    "scaled_data = np.concatenate((scaled_data,b),axis=0)\n",
    "b=np.ones((1,test_size))\n",
    "test_data = np.concatenate((test_data,b),axis=0)\n",
    "print(scaled_data.shape)   \n",
    "print(test_data.shape)  \n",
    "print(b.shape) \n"
   ]
  },
  {
   "cell_type": "markdown",
   "id": "08092e0e",
   "metadata": {},
   "source": [
    "### gradient descent derivative function"
   ]
  },
  {
   "cell_type": "code",
   "execution_count": 28,
   "id": "4901be37",
   "metadata": {},
   "outputs": [],
   "source": [
    "def der_loss(x_t,cf,y_t,train_size,s):\n",
    "    z= np.dot(x_t,cf)\n",
    "    p=1/(1+np.exp(-z))\n",
    "    diff = y_t-p\n",
    "    diff *=x_t[:,s]\n",
    "    return np.average(diff) "
   ]
  },
  {
   "cell_type": "markdown",
   "id": "3f849489",
   "metadata": {},
   "source": [
    "### gradient iteration"
   ]
  },
  {
   "cell_type": "code",
   "execution_count": 29,
   "id": "e9933286",
   "metadata": {},
   "outputs": [
    {
     "name": "stdout",
     "output_type": "stream",
     "text": [
      "<class 'numpy.ndarray'>\n",
      "(455, 31)\n"
     ]
    }
   ],
   "source": [
    "learn_rate = 0.1\n",
    "print(type(scaled_data))\n",
    "print(scaled_data.T.shape)\n",
    "for j in range(0,1000):\n",
    "    for i,f in enumerate(features):\n",
    "        co_eff_features[i]=co_eff_features[i]+learn_rate*(der_loss(scaled_data.T,co_eff_features,y_train,train_size,i))\n",
    "learn_rate = 0.01\n",
    "for j in range(0,4000):\n",
    "    for i,f in enumerate(features):\n",
    "        co_eff_features[i]=co_eff_features[i]+learn_rate*(der_loss(scaled_data.T,co_eff_features,y_train,train_size,i))\n",
    "learn_rate = 0.001\n",
    "for j in range(0,5000):\n",
    "    for i,f in enumerate(features):\n",
    "        co_eff_features[i]=co_eff_features[i]+learn_rate*(der_loss(scaled_data.T,co_eff_features,y_train,train_size,i))\n"
   ]
  },
  {
   "cell_type": "markdown",
   "id": "23c5f5d4",
   "metadata": {},
   "source": [
    "### predicting on test data\n",
    "### finding accuracy"
   ]
  },
  {
   "cell_type": "code",
   "execution_count": 30,
   "id": "8ce8ea72",
   "metadata": {},
   "outputs": [
    {
     "name": "stdout",
     "output_type": "stream",
     "text": [
      "(114,)\n",
      "1 : 1\n",
      "0 : 1\n",
      "0 : 0\n",
      "1 : 1\n",
      "0 : 0\n",
      "0 : 0\n",
      "0 : 0\n",
      "1 : 1\n",
      "1 : 1\n",
      "0 : 0\n",
      "0 : 0\n",
      "1 : 1\n",
      "1 : 1\n",
      "0 : 0\n",
      "1 : 1\n",
      "1 : 1\n",
      "1 : 1\n",
      "0 : 0\n",
      "0 : 0\n",
      "1 : 1\n",
      "1 : 1\n",
      "1 : 1\n",
      "0 : 0\n",
      "0 : 0\n",
      "0 : 0\n",
      "0 : 0\n",
      "0 : 0\n",
      "1 : 1\n",
      "1 : 1\n",
      "1 : 1\n",
      "0 : 0\n",
      "1 : 1\n",
      "0 : 0\n",
      "1 : 1\n",
      "0 : 0\n",
      "0 : 0\n",
      "0 : 0\n",
      "1 : 1\n",
      "0 : 0\n",
      "1 : 1\n",
      "0 : 0\n",
      "1 : 1\n",
      "1 : 1\n",
      "1 : 1\n",
      "0 : 0\n",
      "1 : 1\n",
      "1 : 1\n",
      "1 : 1\n",
      "1 : 1\n",
      "0 : 0\n",
      "1 : 1\n",
      "1 : 1\n",
      "0 : 0\n",
      "1 : 1\n",
      "1 : 1\n",
      "1 : 1\n",
      "1 : 1\n",
      "1 : 1\n",
      "1 : 1\n",
      "1 : 1\n",
      "1 : 1\n",
      "1 : 1\n",
      "1 : 1\n",
      "1 : 1\n",
      "0 : 0\n",
      "1 : 1\n",
      "0 : 0\n",
      "1 : 1\n",
      "1 : 1\n",
      "0 : 0\n",
      "0 : 0\n",
      "0 : 0\n",
      "0 : 0\n",
      "1 : 1\n",
      "1 : 1\n",
      "0 : 0\n",
      "0 : 0\n",
      "0 : 0\n",
      "0 : 0\n",
      "1 : 1\n",
      "1 : 1\n",
      "0 : 0\n",
      "1 : 1\n",
      "1 : 1\n",
      "1 : 1\n",
      "0 : 0\n",
      "1 : 1\n",
      "1 : 1\n",
      "1 : 1\n",
      "1 : 1\n",
      "1 : 1\n",
      "0 : 0\n",
      "1 : 1\n",
      "1 : 1\n",
      "0 : 0\n",
      "0 : 0\n",
      "0 : 0\n",
      "1 : 1\n",
      "1 : 1\n",
      "1 : 1\n",
      "1 : 1\n",
      "0 : 0\n",
      "0 : 0\n",
      "0 : 0\n",
      "1 : 1\n",
      "1 : 1\n",
      "0 : 0\n",
      "0 : 0\n",
      "1 : 1\n",
      "0 : 0\n",
      "1 : 1\n",
      "1 : 1\n",
      "0 : 0\n",
      "1 : 1\n",
      "1\n",
      "0.9912280701754386\n"
     ]
    }
   ],
   "source": [
    "y_test_pred = np.dot(test_data.T,co_eff_features)\n",
    "y_p = 1/(1+np.exp(-y_test_pred))\n",
    "print(y_p.shape)\n",
    "y_final = [1 if a>0.5 else 0 for a in y_test_pred]\n",
    "for a,b in zip(y_test,y_final):\n",
    "    print(f\"{a} : {b}\")\n",
    "y_t_arr = np.array(y_test)\n",
    "y_f_arr = np.array(y_final)\n",
    "accuracy = y_t_arr ^ y_f_arr\n",
    "accuracy_score = np.sum(accuracy)\n",
    "print(accuracy_score)\n",
    "accuracy_percentage = (test_size-accuracy_score)/test_size\n",
    "accuracy_score*=100\n",
    "print(accuracy_percentage)"
   ]
  },
  {
   "cell_type": "code",
   "execution_count": 31,
   "id": "d6c58055",
   "metadata": {},
   "outputs": [
    {
     "name": "stdout",
     "output_type": "stream",
     "text": [
      "              precision    recall  f1-score   support\n",
      "\n",
      "           0       1.00      0.98      0.99        48\n",
      "           1       0.99      1.00      0.99        66\n",
      "\n",
      "    accuracy                           0.99       114\n",
      "   macro avg       0.99      0.99      0.99       114\n",
      "weighted avg       0.99      0.99      0.99       114\n",
      "\n"
     ]
    }
   ],
   "source": [
    "from sklearn.metrics import classification_report\n",
    "\n",
    "print(classification_report(y_test, y_final))\n"
   ]
  },
  {
   "cell_type": "code",
   "execution_count": 33,
   "id": "3215d4b0",
   "metadata": {},
   "outputs": [
    {
     "data": {
      "text/plain": [
       "<sklearn.metrics._plot.confusion_matrix.ConfusionMatrixDisplay at 0x125bff280>"
      ]
     },
     "execution_count": 33,
     "metadata": {},
     "output_type": "execute_result"
    },
    {
     "data": {
      "image/png": "[encoded data removed]",
      "text/plain": [
       "<Figure size 640x480 with 2 Axes>"
      ]
     },
     "metadata": {},
     "output_type": "display_data"
    }
   ],
   "source": [
    "from sklearn.metrics import confusion_matrix, ConfusionMatrixDisplay\n",
    "\n",
    "cm = confusion_matrix(y_test, y_final)\n",
    "ConfusionMatrixDisplay(cm).plot()\n"
   ]
  },
  {
   "cell_type": "markdown",
   "id": "36b69c5d",
   "metadata": {},
   "source": []
  }
 ],
 "metadata": {
  "kernelspec": {
   "display_name": "Python 3",
   "language": "python",
   "name": "python3"
  },
  "language_info": {
   "codemirror_mode": {
    "name": "ipython",
    "version": 3
   },
   "file_extension": ".py",
   "mimetype": "text/x-python",
   "name": "python",
   "nbconvert_exporter": "python",
   "pygments_lexer": "ipython3",
   "version": "3.9.6"
  }
 },
 "nbformat": 4,
 "nbformat_minor": 5
}
